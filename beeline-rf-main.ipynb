{
 "cells": [
  {
   "cell_type": "markdown",
   "metadata": {},
   "source": [
    "Подключим необходимые библиотеки"
   ]
  },
  {
   "cell_type": "code",
   "execution_count": 159,
   "metadata": {
    "collapsed": false
   },
   "outputs": [
    {
     "name": "stdout",
     "output_type": "stream",
     "text": [
      "Populating the interactive namespace from numpy and matplotlib\n"
     ]
    }
   ],
   "source": [
    "%pylab inline\n",
    "%matplotlib inline\n",
    "import matplotlib.pyplot as plt\n",
    "\n",
    "import re \n",
    "from scipy.sparse import hstack as csr_hstack\n",
    "from sklearn.feature_extraction.text import TfidfVectorizer, CountVectorizer\n",
    "\n",
    "import zipfile\n",
    "#from zipfile_infolist import print_info\n",
    "\n",
    "import math\n",
    "from sklearn.cross_validation import KFold\n",
    "import xgboost as xgb\n",
    "\n",
    "import os\n",
    "import numpy as np\n",
    "import pandas as pd\n",
    "\n",
    "import time\n",
    "\n",
    "from sklearn.metrics import mean_squared_error, make_scorer\n",
    "from sklearn.ensemble import RandomForestClassifier\n",
    "from sklearn.preprocessing import LabelEncoder\n",
    "\n",
    "pd.set_option('display.max_rows', 150)\n",
    "pd.set_option('display.max_columns', 150)"
   ]
  },
  {
   "cell_type": "markdown",
   "metadata": {},
   "source": [
    "Считаем файлы с трейном и тестом"
   ]
  },
  {
   "cell_type": "code",
   "execution_count": 160,
   "metadata": {
    "collapsed": false
   },
   "outputs": [
    {
     "name": "stdout",
     "output_type": "stream",
     "text": [
      "(300000, 25)\n",
      "(100000, 16)\n",
      "CPU times: user 2.92 s, sys: 140 ms, total: 3.06 s\n",
      "Wall time: 3.73 s\n"
     ]
    }
   ],
   "source": [
    "%%time\n",
    "dtrain = pd.read_csv('Xtrain.csv')#.fillna(\"\")\n",
    "dtest = pd.read_csv('Xtest.csv')#.fillna(\"\")\n",
    "print np.shape(dtrain)\n",
    "print np.shape(dtest)"
   ]
  },
  {
   "cell_type": "code",
   "execution_count": 161,
   "metadata": {
    "collapsed": false
   },
   "outputs": [],
   "source": [
    "#dtrain.head(20)"
   ]
  },
  {
   "cell_type": "markdown",
   "metadata": {},
   "source": [
    "Объединим их в одну таблицу"
   ]
  },
  {
   "cell_type": "code",
   "execution_count": 162,
   "metadata": {
    "collapsed": false
   },
   "outputs": [
    {
     "name": "stdout",
     "output_type": "stream",
     "text": [
      "CPU times: user 488 ms, sys: 88 ms, total: 576 ms\n",
      "Wall time: 570 ms\n"
     ]
    }
   ],
   "source": [
    "%%time\n",
    "dall = pd.concat((dtrain, dtest), axis = 0)\n",
    "dall.set_index(np.arange(len(dall)), inplace = True)\n",
    "\n",
    "dall = dall[dtrain.columns]"
   ]
  },
  {
   "cell_type": "markdown",
   "metadata": {},
   "source": [
    "Прочитаем столбцы которые нам нужно предсказать, заменим внутри каждого столбца класс на номер класса и запомним названия в формате задачи"
   ]
  },
  {
   "cell_type": "code",
   "execution_count": 163,
   "metadata": {
    "collapsed": false
   },
   "outputs": [],
   "source": [
    "#Типы полей по условиям задачи:\n",
    "target_columns=['Function','Use','Sharing','Reporting','Student_Type','Position_Type','Object_Type','Pre_K','Operating_Status']\n",
    "cont_columns=['FTE','Total']\n",
    "other_columns=['Object_Description','Text_2','SubFund_Description','Job_Title_Description','Text_3','Text_4','Sub_Object_Description','Location_Description','Function_Description','Facility_or_Department','Position_Extra','Program_Description','Fund_Description','Text_1']"
   ]
  },
  {
   "cell_type": "code",
   "execution_count": 164,
   "metadata": {
    "collapsed": false
   },
   "outputs": [],
   "source": [
    "maps = []\n",
    "colnames = []\n",
    "\n",
    "for colpred in dall.columns[:9]:\n",
    "    classes = sort(dtrain[colpred].unique())\n",
    "    \n",
    "    maps.append(dict(zip(classes, np.arange(len(classes)))))\n",
    "    \n",
    "    for i in range(len(classes)):\n",
    "        colnames.append(colpred + '__' + classes[i])\n",
    "    \n",
    "    dall[colpred].replace(maps[-1], inplace = True)"
   ]
  },
  {
   "cell_type": "markdown",
   "metadata": {},
   "source": [
    "# Все текстовые признаки переведем в числовые\n",
    "## with category counting"
   ]
  },
  {
   "cell_type": "code",
   "execution_count": 18,
   "metadata": {
    "collapsed": false
   },
   "outputs": [
    {
     "name": "stdout",
     "output_type": "stream",
     "text": [
      "CPU times: user 3.94 s, sys: 0 ns, total: 3.94 s\n",
      "Wall time: 3.93 s\n"
     ]
    }
   ],
   "source": [
    "%%time\n",
    "# по частоте\n",
    "for col in other_columns: #dall.columns[9:]:\n",
    "    dall[col]=dall[col].fillna(\"\")\n",
    "    dall[col] = dall.groupby(col)[col].transform(len)\n",
    "#dall['Object_Description'] = dall.groupby('Object_Description')['Object_Description'].transform(len)"
   ]
  },
  {
   "cell_type": "code",
   "execution_count": 121,
   "metadata": {
    "collapsed": false
   },
   "outputs": [
    {
     "name": "stdout",
     "output_type": "stream",
     "text": [
      "CPU times: user 6.08 s, sys: 32 ms, total: 6.11 s\n",
      "Wall time: 6.1 s\n"
     ]
    }
   ],
   "source": [
    "%%time\n",
    "# просто кодировкой\n",
    "for col in other_columns:#dall.columns[9:]:\n",
    "    dall[col]=dall[col].fillna(\"\")\n",
    "    dall[col] = LabelEncoder().fit_transform(dall[col])"
   ]
  },
  {
   "cell_type": "code",
   "execution_count": 82,
   "metadata": {
    "collapsed": false
   },
   "outputs": [
    {
     "data": {
      "text/html": [
       "<div>\n",
       "<table border=\"1\" class=\"dataframe\">\n",
       "  <thead>\n",
       "    <tr style=\"text-align: right;\">\n",
       "      <th></th>\n",
       "      <th>Object_Description</th>\n",
       "      <th>Text_2</th>\n",
       "      <th>SubFund_Description</th>\n",
       "      <th>Job_Title_Description</th>\n",
       "      <th>Text_3</th>\n",
       "      <th>Text_4</th>\n",
       "      <th>Sub_Object_Description</th>\n",
       "      <th>Location_Description</th>\n",
       "      <th>FTE</th>\n",
       "      <th>Function_Description</th>\n",
       "      <th>Facility_or_Department</th>\n",
       "      <th>Position_Extra</th>\n",
       "      <th>Total</th>\n",
       "      <th>Program_Description</th>\n",
       "      <th>Fund_Description</th>\n",
       "      <th>Text_1</th>\n",
       "    </tr>\n",
       "  </thead>\n",
       "  <tbody>\n",
       "    <tr>\n",
       "      <th>0</th>\n",
       "      <td>495</td>\n",
       "      <td>0</td>\n",
       "      <td>135</td>\n",
       "      <td>0</td>\n",
       "      <td>0</td>\n",
       "      <td>0</td>\n",
       "      <td>0</td>\n",
       "      <td>7</td>\n",
       "      <td>20992</td>\n",
       "      <td>340</td>\n",
       "      <td>0</td>\n",
       "      <td>0</td>\n",
       "      <td>200086</td>\n",
       "      <td>226</td>\n",
       "      <td>51</td>\n",
       "      <td>0</td>\n",
       "    </tr>\n",
       "    <tr>\n",
       "      <th>1</th>\n",
       "      <td>502</td>\n",
       "      <td>0</td>\n",
       "      <td>7</td>\n",
       "      <td>2950</td>\n",
       "      <td>0</td>\n",
       "      <td>0</td>\n",
       "      <td>51</td>\n",
       "      <td>319</td>\n",
       "      <td>20992</td>\n",
       "      <td>312</td>\n",
       "      <td>84</td>\n",
       "      <td>106</td>\n",
       "      <td>83560</td>\n",
       "      <td>4</td>\n",
       "      <td>4</td>\n",
       "      <td>933</td>\n",
       "    </tr>\n",
       "    <tr>\n",
       "      <th>2</th>\n",
       "      <td>467</td>\n",
       "      <td>272</td>\n",
       "      <td>95</td>\n",
       "      <td>3367</td>\n",
       "      <td>25</td>\n",
       "      <td>0</td>\n",
       "      <td>0</td>\n",
       "      <td>0</td>\n",
       "      <td>640</td>\n",
       "      <td>664</td>\n",
       "      <td>0</td>\n",
       "      <td>422</td>\n",
       "      <td>58463</td>\n",
       "      <td>135</td>\n",
       "      <td>0</td>\n",
       "      <td>1097</td>\n",
       "    </tr>\n",
       "  </tbody>\n",
       "</table>\n",
       "</div>"
      ],
      "text/plain": [
       "   Object_Description  Text_2  SubFund_Description  Job_Title_Description  \\\n",
       "0                 495       0                  135                      0   \n",
       "1                 502       0                    7                   2950   \n",
       "2                 467     272                   95                   3367   \n",
       "\n",
       "   Text_3  Text_4  Sub_Object_Description  Location_Description    FTE  \\\n",
       "0       0       0                       0                     7  20992   \n",
       "1       0       0                      51                   319  20992   \n",
       "2      25       0                       0                     0    640   \n",
       "\n",
       "   Function_Description  Facility_or_Department  Position_Extra   Total  \\\n",
       "0                   340                       0               0  200086   \n",
       "1                   312                      84             106   83560   \n",
       "2                   664                       0             422   58463   \n",
       "\n",
       "   Program_Description  Fund_Description  Text_1  \n",
       "0                  226                51       0  \n",
       "1                    4                 4     933  \n",
       "2                  135                 0    1097  "
      ]
     },
     "execution_count": 82,
     "metadata": {},
     "output_type": "execute_result"
    }
   ],
   "source": [
    "#dall=pd.DataFrame(dall)\n",
    "dall[dall.columns[9:]].head(3)"
   ]
  },
  {
   "cell_type": "code",
   "execution_count": 50,
   "metadata": {
    "collapsed": false
   },
   "outputs": [
    {
     "name": "stdout",
     "output_type": "stream",
     "text": [
      "37\n",
      "8\n",
      "5\n",
      "3\n",
      "9\n",
      "25\n",
      "11\n",
      "3\n",
      "3\n"
     ]
    }
   ],
   "source": [
    "for col in dtrain[target_columns].columns:\n",
    "    print len(unique(dtrain[col]))"
   ]
  },
  {
   "cell_type": "markdown",
   "metadata": {},
   "source": [
    "# TEXT, TF-IDF"
   ]
  },
  {
   "cell_type": "code",
   "execution_count": 172,
   "metadata": {
    "collapsed": false
   },
   "outputs": [
    {
     "data": {
      "text/html": [
       "<div>\n",
       "<table border=\"1\" class=\"dataframe\">\n",
       "  <thead>\n",
       "    <tr style=\"text-align: right;\">\n",
       "      <th></th>\n",
       "      <th>Object_Description</th>\n",
       "      <th>Text_2</th>\n",
       "      <th>SubFund_Description</th>\n",
       "      <th>Job_Title_Description</th>\n",
       "      <th>Text_3</th>\n",
       "      <th>Text_4</th>\n",
       "      <th>Sub_Object_Description</th>\n",
       "      <th>Location_Description</th>\n",
       "      <th>Function_Description</th>\n",
       "      <th>Facility_or_Department</th>\n",
       "      <th>Position_Extra</th>\n",
       "      <th>Program_Description</th>\n",
       "      <th>Fund_Description</th>\n",
       "      <th>Text_1</th>\n",
       "    </tr>\n",
       "  </thead>\n",
       "  <tbody>\n",
       "    <tr>\n",
       "      <th>0</th>\n",
       "      <td>SUPPLIES</td>\n",
       "      <td></td>\n",
       "      <td>MISCELLANEOUS</td>\n",
       "      <td></td>\n",
       "      <td></td>\n",
       "      <td></td>\n",
       "      <td></td>\n",
       "      <td>ADMIN. SERVICES</td>\n",
       "      <td>MAINTENANCE AND OPERATING</td>\n",
       "      <td></td>\n",
       "      <td></td>\n",
       "      <td>Misc</td>\n",
       "      <td>General Fund</td>\n",
       "      <td></td>\n",
       "    </tr>\n",
       "    <tr>\n",
       "      <th>1</th>\n",
       "      <td>Salaries And Wages For Substitute Professionals</td>\n",
       "      <td></td>\n",
       "      <td>\"Title  Part A Improving Basic Programs\"</td>\n",
       "      <td>TEACHER SUBSTITUTE POOL</td>\n",
       "      <td></td>\n",
       "      <td></td>\n",
       "      <td>Extra Substitute Teachers Grant Funded</td>\n",
       "      <td>School</td>\n",
       "      <td>Instruction</td>\n",
       "      <td>Instruction And Curriculum</td>\n",
       "      <td>CERTIFIED SUBSTITUTE</td>\n",
       "      <td>\"Title I, Part A Schoolwide Activities Related...</td>\n",
       "      <td>\"Title  Part A Improving Basic Programs\"</td>\n",
       "      <td>MISCELLANEOUS</td>\n",
       "    </tr>\n",
       "  </tbody>\n",
       "</table>\n",
       "</div>"
      ],
      "text/plain": [
       "                                Object_Description Text_2  \\\n",
       "0                                         SUPPLIES          \n",
       "1  Salaries And Wages For Substitute Professionals          \n",
       "\n",
       "                        SubFund_Description    Job_Title_Description Text_3  \\\n",
       "0                             MISCELLANEOUS                                   \n",
       "1  \"Title  Part A Improving Basic Programs\"  TEACHER SUBSTITUTE POOL          \n",
       "\n",
       "  Text_4                  Sub_Object_Description Location_Description  \\\n",
       "0                                                     ADMIN. SERVICES   \n",
       "1         Extra Substitute Teachers Grant Funded              School    \n",
       "\n",
       "        Function_Description      Facility_or_Department  \\\n",
       "0  MAINTENANCE AND OPERATING                               \n",
       "1                Instruction  Instruction And Curriculum   \n",
       "\n",
       "         Position_Extra                                Program_Description  \\\n",
       "0                                                                     Misc   \n",
       "1  CERTIFIED SUBSTITUTE  \"Title I, Part A Schoolwide Activities Related...   \n",
       "\n",
       "                           Fund_Description          Text_1  \n",
       "0                              General Fund                  \n",
       "1  \"Title  Part A Improving Basic Programs\"  MISCELLANEOUS   "
      ]
     },
     "execution_count": 172,
     "metadata": {},
     "output_type": "execute_result"
    }
   ],
   "source": [
    "dall[other_columns].head(2)"
   ]
  },
  {
   "cell_type": "code",
   "execution_count": 165,
   "metadata": {
    "collapsed": false
   },
   "outputs": [
    {
     "name": "stdout",
     "output_type": "stream",
     "text": [
      "Object_Description\n",
      "1489\n",
      "Text_2\n",
      "2213\n",
      "SubFund_Description\n",
      "3133\n",
      "Job_Title_Description\n",
      "9210\n",
      "Text_3\n",
      "9321\n",
      "Text_4\n",
      "10079\n",
      "Sub_Object_Description\n",
      "10686\n",
      "Location_Description\n",
      "11644\n",
      "Function_Description\n",
      "13503\n",
      "Facility_or_Department\n",
      "13961\n",
      "Position_Extra\n",
      "15081\n",
      "Program_Description\n",
      "16351\n",
      "Fund_Description\n",
      "16872\n",
      "Text_1\n",
      "20632\n"
     ]
    }
   ],
   "source": [
    "tfidf = TfidfVectorizer(ngram_range=(1, 2))\n",
    "\n",
    "st_other_columns=[]\n",
    "for col in other_columns:\n",
    "    print col   \n",
    "    dall[col] = dall[col].fillna(\"\")\n",
    "    if col=='Object_Description':\n",
    "        XallIdf = tfidf.fit_transform(dall[col]) \n",
    "    else:\n",
    "        XallIdf = csr_hstack([XallIdf,tfidf.fit_transform(dall[col])])\n",
    "    print np.shape(XallIdf)[1]"
   ]
  },
  {
   "cell_type": "code",
   "execution_count": 166,
   "metadata": {
    "collapsed": false
   },
   "outputs": [
    {
     "name": "stdout",
     "output_type": "stream",
     "text": [
      "<type 'numpy.ndarray'>\n",
      "(400000, 50)\n"
     ]
    }
   ],
   "source": [
    "from sklearn.decomposition import TruncatedSVD\n",
    "pca = TruncatedSVD(n_components = 50)\n",
    "XIdf2sdv50 = pca.fit_transform(XallIdf)\n",
    "print type(XIdf2sdv50)\n",
    "print shape(XIdf2sdv50)"
   ]
  },
  {
   "cell_type": "code",
   "execution_count": 44,
   "metadata": {
    "collapsed": false
   },
   "outputs": [
    {
     "data": {
      "text/plain": [
       "scipy.sparse.coo.coo_matrix"
      ]
     },
     "execution_count": 44,
     "metadata": {},
     "output_type": "execute_result"
    }
   ],
   "source": [
    "type(XallIdf)"
   ]
  },
  {
   "cell_type": "code",
   "execution_count": 118,
   "metadata": {
    "collapsed": false
   },
   "outputs": [
    {
     "name": "stdout",
     "output_type": "stream",
     "text": [
      "(400000, 24)\n"
     ]
    }
   ],
   "source": [
    "Xall=hstack([Xother_encoded,XIdf2sdv10])\n",
    "print np.shape(Xall)"
   ]
  },
  {
   "cell_type": "code",
   "execution_count": 38,
   "metadata": {
    "collapsed": false
   },
   "outputs": [
    {
     "data": {
      "text/html": [
       "<div>\n",
       "<table border=\"1\" class=\"dataframe\">\n",
       "  <thead>\n",
       "    <tr style=\"text-align: right;\">\n",
       "      <th></th>\n",
       "      <th>Object_Description</th>\n",
       "      <th>Text_2</th>\n",
       "      <th>SubFund_Description</th>\n",
       "      <th>Job_Title_Description</th>\n",
       "      <th>Text_3</th>\n",
       "      <th>Text_4</th>\n",
       "      <th>Sub_Object_Description</th>\n",
       "      <th>Location_Description</th>\n",
       "      <th>FTE</th>\n",
       "      <th>Function_Description</th>\n",
       "      <th>Facility_or_Department</th>\n",
       "      <th>Position_Extra</th>\n",
       "      <th>Total</th>\n",
       "      <th>Program_Description</th>\n",
       "      <th>Fund_Description</th>\n",
       "      <th>Text_1</th>\n",
       "      <th>merge</th>\n",
       "    </tr>\n",
       "  </thead>\n",
       "  <tbody>\n",
       "    <tr>\n",
       "      <th>0</th>\n",
       "      <td>SUPPLIES</td>\n",
       "      <td></td>\n",
       "      <td>MISCELLANEOUS</td>\n",
       "      <td></td>\n",
       "      <td></td>\n",
       "      <td></td>\n",
       "      <td></td>\n",
       "      <td>ADMIN. SERVICES</td>\n",
       "      <td>NaN</td>\n",
       "      <td>MAINTENANCE AND OPERATING</td>\n",
       "      <td></td>\n",
       "      <td></td>\n",
       "      <td>6179.91</td>\n",
       "      <td>Misc</td>\n",
       "      <td>General Fund</td>\n",
       "      <td></td>\n",
       "      <td>SUPPLIES  MISCELLANEOUS     ADMIN. SERVICES MA...</td>\n",
       "    </tr>\n",
       "    <tr>\n",
       "      <th>1</th>\n",
       "      <td>Salaries And Wages For Substitute Professionals</td>\n",
       "      <td></td>\n",
       "      <td>\"Title  Part A Improving Basic Programs\"</td>\n",
       "      <td>TEACHER SUBSTITUTE POOL</td>\n",
       "      <td></td>\n",
       "      <td></td>\n",
       "      <td>Extra Substitute Teachers Grant Funded</td>\n",
       "      <td>School</td>\n",
       "      <td>NaN</td>\n",
       "      <td>Instruction</td>\n",
       "      <td>Instruction And Curriculum</td>\n",
       "      <td>CERTIFIED SUBSTITUTE</td>\n",
       "      <td>275.93</td>\n",
       "      <td>\"Title I, Part A Schoolwide Activities Related...</td>\n",
       "      <td>\"Title  Part A Improving Basic Programs\"</td>\n",
       "      <td>MISCELLANEOUS</td>\n",
       "      <td>Salaries And Wages For Substitute Professional...</td>\n",
       "    </tr>\n",
       "  </tbody>\n",
       "</table>\n",
       "</div>"
      ],
      "text/plain": [
       "                                Object_Description Text_2  \\\n",
       "0                                         SUPPLIES          \n",
       "1  Salaries And Wages For Substitute Professionals          \n",
       "\n",
       "                        SubFund_Description    Job_Title_Description Text_3  \\\n",
       "0                             MISCELLANEOUS                                   \n",
       "1  \"Title  Part A Improving Basic Programs\"  TEACHER SUBSTITUTE POOL          \n",
       "\n",
       "  Text_4                  Sub_Object_Description Location_Description  FTE  \\\n",
       "0                                                     ADMIN. SERVICES  NaN   \n",
       "1         Extra Substitute Teachers Grant Funded              School   NaN   \n",
       "\n",
       "        Function_Description      Facility_or_Department  \\\n",
       "0  MAINTENANCE AND OPERATING                               \n",
       "1                Instruction  Instruction And Curriculum   \n",
       "\n",
       "         Position_Extra    Total  \\\n",
       "0                        6179.91   \n",
       "1  CERTIFIED SUBSTITUTE   275.93   \n",
       "\n",
       "                                 Program_Description  \\\n",
       "0                                               Misc   \n",
       "1  \"Title I, Part A Schoolwide Activities Related...   \n",
       "\n",
       "                           Fund_Description          Text_1  \\\n",
       "0                              General Fund                   \n",
       "1  \"Title  Part A Improving Basic Programs\"  MISCELLANEOUS    \n",
       "\n",
       "                                               merge  \n",
       "0  SUPPLIES  MISCELLANEOUS     ADMIN. SERVICES MA...  \n",
       "1  Salaries And Wages For Substitute Professional...  "
      ]
     },
     "execution_count": 38,
     "metadata": {},
     "output_type": "execute_result"
    }
   ],
   "source": [
    "#dall.drop('merge', axis=1, inplace=True)\n",
    "dall[dall.columns[9:]].head(2)"
   ]
  },
  {
   "cell_type": "markdown",
   "metadata": {},
   "source": [
    "## Count Vectorizer"
   ]
  },
  {
   "cell_type": "code",
   "execution_count": 174,
   "metadata": {
    "collapsed": true
   },
   "outputs": [],
   "source": [
    "dall['merge'] = ''\n",
    "\n",
    "for col in other_columns: #dall.columns[9:]:\n",
    "    dall['merge'] += dall[col].astype(str) + ' '"
   ]
  },
  {
   "cell_type": "code",
   "execution_count": 175,
   "metadata": {
    "collapsed": false
   },
   "outputs": [
    {
     "name": "stdout",
     "output_type": "stream",
     "text": [
      "(400000, 2676)\n",
      "<class 'scipy.sparse.csr.csr_matrix'>\n",
      "CPU times: user 18.7 s, sys: 116 ms, total: 18.8 s\n",
      "Wall time: 18.8 s\n"
     ]
    }
   ],
   "source": [
    "%%time\n",
    "#XallCV5 = CountVectorizer().fit_transform(dall.ix[:, -1])\n",
    "XallCV = CountVectorizer(min_df = 5).fit_transform(dall.ix[:, -1])\n",
    "print np.shape(XallCV)\n",
    "print type(XallCV)"
   ]
  },
  {
   "cell_type": "code",
   "execution_count": 176,
   "metadata": {
    "collapsed": false
   },
   "outputs": [
    {
     "name": "stdout",
     "output_type": "stream",
     "text": [
      "(400000, 20)\n"
     ]
    },
    {
     "ename": "AttributeError",
     "evalue": "'module' object has no attribute 'type'",
     "output_type": "error",
     "traceback": [
      "\u001b[1;31m---------------------------------------------------------------------------\u001b[0m",
      "\u001b[1;31mAttributeError\u001b[0m                            Traceback (most recent call last)",
      "\u001b[1;32m<ipython-input-176-1fb8dfa9e87a>\u001b[0m in \u001b[0;36m<module>\u001b[1;34m()\u001b[0m\n\u001b[0;32m      3\u001b[0m \u001b[0mXall\u001b[0m \u001b[1;33m=\u001b[0m \u001b[0mpca\u001b[0m\u001b[1;33m.\u001b[0m\u001b[0mfit_transform\u001b[0m\u001b[1;33m(\u001b[0m\u001b[0mXallCV\u001b[0m\u001b[1;33m)\u001b[0m\u001b[1;33m\u001b[0m\u001b[0m\n\u001b[0;32m      4\u001b[0m \u001b[1;32mprint\u001b[0m \u001b[0mshape\u001b[0m\u001b[1;33m(\u001b[0m\u001b[0mXall\u001b[0m\u001b[1;33m)\u001b[0m\u001b[1;33m\u001b[0m\u001b[0m\n\u001b[1;32m----> 5\u001b[1;33m \u001b[1;32mprint\u001b[0m \u001b[0mnp\u001b[0m\u001b[1;33m.\u001b[0m\u001b[0mtype\u001b[0m\u001b[1;33m(\u001b[0m\u001b[0mXall\u001b[0m\u001b[1;33m)\u001b[0m\u001b[1;33m\u001b[0m\u001b[0m\n\u001b[0m",
      "\u001b[1;31mAttributeError\u001b[0m: 'module' object has no attribute 'type'"
     ]
    }
   ],
   "source": [
    "from sklearn.decomposition import TruncatedSVD\n",
    "pca = TruncatedSVD(n_components = 20)\n",
    "Xall = pca.fit_transform(XallCV)\n",
    "print shape(Xall)\n",
    "print np.type(Xall)"
   ]
  },
  {
   "cell_type": "code",
   "execution_count": 177,
   "metadata": {
    "collapsed": false
   },
   "outputs": [
    {
     "name": "stdout",
     "output_type": "stream",
     "text": [
      "<type 'numpy.ndarray'>\n"
     ]
    }
   ],
   "source": [
    "#Xall=hstack([Xother_encoded,Xcv5svd100])\n",
    "#Xall=XallIdf.tocsr()\n",
    "print type(Xall)"
   ]
  },
  {
   "cell_type": "markdown",
   "metadata": {},
   "source": [
    "# FTE & Total"
   ]
  },
  {
   "cell_type": "code",
   "execution_count": 94,
   "metadata": {
    "collapsed": false
   },
   "outputs": [
    {
     "name": "stderr",
     "output_type": "stream",
     "text": [
      "/home/atselikov/anaconda2/lib/python2.7/site-packages/pandas/core/frame.py:2705: SettingWithCopyWarning: \n",
      "A value is trying to be set on a copy of a slice from a DataFrame\n",
      "\n",
      "See the caveats in the documentation: http://pandas.pydata.org/pandas-docs/stable/indexing.html#indexing-view-versus-copy\n",
      "  **kwargs)\n"
     ]
    }
   ],
   "source": [
    "#dall['Totalq100'] = pd.qcut(dall['Total'], 100, labels=False)\n",
    "#dall['Totalq50'] = pd.qcut(dall['Total'], 50, labels=False)\n",
    "#dall['Totalq1000'] = pd.qcut(dall['Total'], 1000, labels=False)\n",
    "dall['Total100'] = pd.cut(dall['Total'], 100, labels=False)\n",
    "dall['Total50'] = pd.cut(dall['Total'], 50, labels=False)\n",
    "dall['Total1000'] = pd.cut(dall['Total'], 1000, labels=False)\n",
    "\n",
    "dall['FTE100'] = pd.cut(dall['FTE'], 100, labels=False)\n",
    "dall['FTE50'] = pd.cut(dall['FTE'], 50, labels=False)\n",
    "dall['FTE1000'] = pd.cut(dall['FTE'], 1000, labels=False)\n",
    "\n",
    "q_cols=['FTE100', 'FTE50', 'FTE1000','Total100','Total50', 'Total1000']\n",
    "dall[q_cols].fillna(-1, inplace = True)"
   ]
  },
  {
   "cell_type": "code",
   "execution_count": 90,
   "metadata": {
    "collapsed": false
   },
   "outputs": [
    {
     "data": {
      "text/plain": [
       "0"
      ]
     },
     "execution_count": 90,
     "metadata": {},
     "output_type": "execute_result"
    }
   ],
   "source": [
    "sum(dall['Total100'].isnull())\n",
    "\n",
    "#dall['Total100'].fillna(-1, inplace = True)\n",
    "#dall[q_cols].describe(include='all')\n",
    "#q_cols+other_columns"
   ]
  },
  {
   "cell_type": "code",
   "execution_count": 95,
   "metadata": {
    "collapsed": false
   },
   "outputs": [
    {
     "name": "stderr",
     "output_type": "stream",
     "text": [
      "/home/atselikov/anaconda2/lib/python2.7/site-packages/ipykernel/__main__.py:24: SettingWithCopyWarning: \n",
      "A value is trying to be set on a copy of a slice from a DataFrame\n",
      "\n",
      "See the caveats in the documentation: http://pandas.pydata.org/pandas-docs/stable/indexing.html#indexing-view-versus-copy\n",
      "/home/atselikov/anaconda2/lib/python2.7/site-packages/ipykernel/__main__.py:28: SettingWithCopyWarning: \n",
      "A value is trying to be set on a copy of a slice from a DataFrame\n",
      "\n",
      "See the caveats in the documentation: http://pandas.pydata.org/pandas-docs/stable/indexing.html#indexing-view-versus-copy\n"
     ]
    }
   ],
   "source": [
    "# FTE && Total\n",
    "\n",
    "# NA & zero\n",
    "dall['FteZero'] = (dall['FTE'] == 0.0).astype(int)\n",
    "dall['TotalZero'] = (dall['Total'] == 0.0).astype(int)\n",
    "\n",
    "dall['NaFTE'] = dall['FTE'].isnull().astype(int)\n",
    "dall['NaTotal'] = dall['Total'].isnull().astype(int)\n",
    "\n",
    "dall.loc[dall[\"FTE\"].isnull(), \"FTE\"] = 0\n",
    "dall.loc[dall[\"Total\"].isnull(), \"Total\"] = 0\n",
    "\n",
    "# отрицательные\n",
    "dall['FteIsNeg'] = (dall['FTE']<0).astype(int)\n",
    "dall.loc[dall[\"FTE\"] < 0, \"FTE\"] = 0\n",
    "\n",
    "# большие\n",
    "dall['Fte5'] = (dall['FTE']>5).astype(int)\n",
    "dall.loc[dall[\"FTE\"] > 5, \"FTE\"] = 5                                    \n",
    "\n",
    "# total neg\n",
    "dall['TotalIsNeg'] = (dall['Total']<0).astype(int)\n",
    "dall['TotalNeg'] = dall['Total'][dall['Total']<0]\n",
    "dall[\"TotalNeg\"][dall['TotalNeg'].isnull()] = 0\n",
    "dall['TotalNegLog'] = log(1-dall['TotalNeg'])\n",
    "\n",
    "dall['TotalPos'] = dall['Total'][dall['Total']>0]\n",
    "dall[\"TotalPos\"][dall['TotalPos'].isnull()] = 0\n",
    "dall['TotalPosLog'] = log(1+dall['TotalPos'])\n",
    "\n",
    "fte_cols=['FTE','NaFTE', 'FteZero', 'FteIsNeg','Fte5']exit\n",
    "\n",
    "#total_cols=['Total','NaTotal', 'TotalZero', 'TotalIsNeg','TotalNeg', 'TotalNegLog', 'TotalPos', 'TotalPosLog']\n",
    "total_cols=['NaTotal', 'TotalZero', 'TotalIsNeg', 'TotalNegLog', 'TotalPosLog']\n",
    "dall.drop(['TotalNeg', 'TotalPos', 'Total'], axis=1, inplace=True)"
   ]
  },
  {
   "cell_type": "code",
   "execution_count": 109,
   "metadata": {
    "collapsed": false
   },
   "outputs": [
    {
     "data": {
      "text/html": [
       "<div>\n",
       "<table border=\"1\" class=\"dataframe\">\n",
       "  <thead>\n",
       "    <tr style=\"text-align: right;\">\n",
       "      <th></th>\n",
       "      <th>NaTotal</th>\n",
       "      <th>TotalZero</th>\n",
       "      <th>TotalIsNeg</th>\n",
       "      <th>TotalNegLog</th>\n",
       "      <th>TotalPosLog</th>\n",
       "      <th>FTE</th>\n",
       "      <th>NaFTE</th>\n",
       "      <th>FteZero</th>\n",
       "      <th>FteIsNeg</th>\n",
       "      <th>Fte5</th>\n",
       "      <th>FTE100</th>\n",
       "      <th>FTE50</th>\n",
       "      <th>FTE1000</th>\n",
       "      <th>Total100</th>\n",
       "      <th>Total50</th>\n",
       "      <th>Total1000</th>\n",
       "    </tr>\n",
       "  </thead>\n",
       "  <tbody>\n",
       "    <tr>\n",
       "      <th>0</th>\n",
       "      <td>0</td>\n",
       "      <td>0</td>\n",
       "      <td>0</td>\n",
       "      <td>0</td>\n",
       "      <td>8.729221</td>\n",
       "      <td>0.00000</td>\n",
       "      <td>1</td>\n",
       "      <td>0</td>\n",
       "      <td>0</td>\n",
       "      <td>0</td>\n",
       "      <td>-1</td>\n",
       "      <td>-1</td>\n",
       "      <td>-1</td>\n",
       "      <td>40</td>\n",
       "      <td>20</td>\n",
       "      <td>402</td>\n",
       "    </tr>\n",
       "    <tr>\n",
       "      <th>1</th>\n",
       "      <td>0</td>\n",
       "      <td>0</td>\n",
       "      <td>0</td>\n",
       "      <td>0</td>\n",
       "      <td>5.623765</td>\n",
       "      <td>0.00000</td>\n",
       "      <td>1</td>\n",
       "      <td>0</td>\n",
       "      <td>0</td>\n",
       "      <td>0</td>\n",
       "      <td>-1</td>\n",
       "      <td>-1</td>\n",
       "      <td>-1</td>\n",
       "      <td>40</td>\n",
       "      <td>20</td>\n",
       "      <td>402</td>\n",
       "    </tr>\n",
       "    <tr>\n",
       "      <th>2</th>\n",
       "      <td>0</td>\n",
       "      <td>0</td>\n",
       "      <td>0</td>\n",
       "      <td>0</td>\n",
       "      <td>4.704273</td>\n",
       "      <td>0.00431</td>\n",
       "      <td>0</td>\n",
       "      <td>0</td>\n",
       "      <td>0</td>\n",
       "      <td>0</td>\n",
       "      <td>0</td>\n",
       "      <td>0</td>\n",
       "      <td>1</td>\n",
       "      <td>40</td>\n",
       "      <td>20</td>\n",
       "      <td>402</td>\n",
       "    </tr>\n",
       "  </tbody>\n",
       "</table>\n",
       "</div>"
      ],
      "text/plain": [
       "   NaTotal  TotalZero  TotalIsNeg  TotalNegLog  TotalPosLog      FTE  NaFTE  \\\n",
       "0        0          0           0            0     8.729221  0.00000      1   \n",
       "1        0          0           0            0     5.623765  0.00000      1   \n",
       "2        0          0           0            0     4.704273  0.00431      0   \n",
       "\n",
       "   FteZero  FteIsNeg  Fte5  FTE100  FTE50  FTE1000  Total100  Total50  \\\n",
       "0        0         0     0      -1     -1       -1        40       20   \n",
       "1        0         0     0      -1     -1       -1        40       20   \n",
       "2        0         0     0       0      0        1        40       20   \n",
       "\n",
       "   Total1000  \n",
       "0        402  \n",
       "1        402  \n",
       "2        402  "
      ]
     },
     "execution_count": 109,
     "metadata": {},
     "output_type": "execute_result"
    }
   ],
   "source": [
    "dall[q_cols]=dall[q_cols].fillna(-1)\n",
    "total_cols=['NaTotal', 'TotalZero', 'TotalIsNeg', 'TotalNegLog', 'TotalPosLog']\n",
    "dall[total_cols+fte_cols+q_cols].head(3)"
   ]
  },
  {
   "cell_type": "code",
   "execution_count": 110,
   "metadata": {
    "collapsed": false
   },
   "outputs": [
    {
     "data": {
      "text/plain": [
       "FTE100       0\n",
       "FTE50        0\n",
       "FTE1000      0\n",
       "Total100     0\n",
       "Total50      0\n",
       "Total1000    0\n",
       "dtype: int64"
      ]
     },
     "execution_count": 110,
     "metadata": {},
     "output_type": "execute_result"
    }
   ],
   "source": [
    "sum(dall[q_cols].isnull())"
   ]
  },
  {
   "cell_type": "markdown",
   "metadata": {},
   "source": [
    "# Words statistics"
   ]
  },
  {
   "cell_type": "code",
   "execution_count": 149,
   "metadata": {
    "collapsed": false
   },
   "outputs": [
    {
     "name": "stdout",
     "output_type": "stream",
     "text": [
      "CPU times: user 13 s, sys: 60 ms, total: 13 s\n",
      "Wall time: 12.9 s\n"
     ]
    }
   ],
   "source": [
    "%%time\n",
    "from __future__ import division\n",
    "words_stst_cols=['NanCount']\n",
    "dall['NanCount'] = dall[other_columns].isnull().sum(axis=1)\n",
    "\n",
    "for col in other_columns:    \n",
    "    dall[col + 'WCount'] = dall[col].map(lambda x: len(str(x).split())).astype(int)    #words count\n",
    "    dall[col + 'SymCount'] = dall[col].map(lambda x: len(str(x))).astype(int)  #symb count    \n",
    "    dall[col + 'WSRatio'] = dall[col + 'WCount'] / dall[col + 'SymCount'] #words-symbs ratio\n",
    "    dall[col + 'IsNa'] = dall[col].isnull().astype(int)\n",
    "    words_stst_cols.append(col + 'WCount')\n",
    "    words_stst_cols.append(col + 'SymCount')\n",
    "    words_stst_cols.append(col + 'WSRatio')\n",
    "    words_stst_cols.append(col + 'IsNa')    "
   ]
  },
  {
   "cell_type": "code",
   "execution_count": 41,
   "metadata": {
    "collapsed": false
   },
   "outputs": [
    {
     "name": "stdout",
     "output_type": "stream",
     "text": [
      "57\n"
     ]
    },
    {
     "data": {
      "text/html": [
       "<div>\n",
       "<table border=\"1\" class=\"dataframe\">\n",
       "  <thead>\n",
       "    <tr style=\"text-align: right;\">\n",
       "      <th></th>\n",
       "      <th>NanCount</th>\n",
       "      <th>Object_DescriptionWCount</th>\n",
       "      <th>Object_DescriptionSymCount</th>\n",
       "      <th>Object_DescriptionWSRatio</th>\n",
       "      <th>Object_DescriptionIsNa</th>\n",
       "      <th>Text_2WCount</th>\n",
       "      <th>Text_2SymCount</th>\n",
       "      <th>Text_2WSRatio</th>\n",
       "      <th>Text_2IsNa</th>\n",
       "      <th>SubFund_DescriptionWCount</th>\n",
       "      <th>SubFund_DescriptionSymCount</th>\n",
       "      <th>SubFund_DescriptionWSRatio</th>\n",
       "      <th>SubFund_DescriptionIsNa</th>\n",
       "      <th>Job_Title_DescriptionWCount</th>\n",
       "      <th>Job_Title_DescriptionSymCount</th>\n",
       "      <th>Job_Title_DescriptionWSRatio</th>\n",
       "      <th>Job_Title_DescriptionIsNa</th>\n",
       "      <th>Text_3WCount</th>\n",
       "      <th>Text_3SymCount</th>\n",
       "      <th>Text_3WSRatio</th>\n",
       "      <th>Text_3IsNa</th>\n",
       "      <th>Text_4WCount</th>\n",
       "      <th>Text_4SymCount</th>\n",
       "      <th>Text_4WSRatio</th>\n",
       "      <th>Text_4IsNa</th>\n",
       "      <th>...</th>\n",
       "      <th>Location_DescriptionIsNa</th>\n",
       "      <th>Function_DescriptionWCount</th>\n",
       "      <th>Function_DescriptionSymCount</th>\n",
       "      <th>Function_DescriptionWSRatio</th>\n",
       "      <th>Function_DescriptionIsNa</th>\n",
       "      <th>Facility_or_DepartmentWCount</th>\n",
       "      <th>Facility_or_DepartmentSymCount</th>\n",
       "      <th>Facility_or_DepartmentWSRatio</th>\n",
       "      <th>Facility_or_DepartmentIsNa</th>\n",
       "      <th>Position_ExtraWCount</th>\n",
       "      <th>Position_ExtraSymCount</th>\n",
       "      <th>Position_ExtraWSRatio</th>\n",
       "      <th>Position_ExtraIsNa</th>\n",
       "      <th>Program_DescriptionWCount</th>\n",
       "      <th>Program_DescriptionSymCount</th>\n",
       "      <th>Program_DescriptionWSRatio</th>\n",
       "      <th>Program_DescriptionIsNa</th>\n",
       "      <th>Fund_DescriptionWCount</th>\n",
       "      <th>Fund_DescriptionSymCount</th>\n",
       "      <th>Fund_DescriptionWSRatio</th>\n",
       "      <th>Fund_DescriptionIsNa</th>\n",
       "      <th>Text_1WCount</th>\n",
       "      <th>Text_1SymCount</th>\n",
       "      <th>Text_1WSRatio</th>\n",
       "      <th>Text_1IsNa</th>\n",
       "    </tr>\n",
       "  </thead>\n",
       "  <tbody>\n",
       "    <tr>\n",
       "      <th>count</th>\n",
       "      <td>400000.000000</td>\n",
       "      <td>400000.000000</td>\n",
       "      <td>400000.000000</td>\n",
       "      <td>400000.000000</td>\n",
       "      <td>400000.000000</td>\n",
       "      <td>400000.000000</td>\n",
       "      <td>400000.000000</td>\n",
       "      <td>400000.000000</td>\n",
       "      <td>400000.000000</td>\n",
       "      <td>400000.000000</td>\n",
       "      <td>400000.000000</td>\n",
       "      <td>400000.000000</td>\n",
       "      <td>400000.000000</td>\n",
       "      <td>400000.000000</td>\n",
       "      <td>400000.00000</td>\n",
       "      <td>400000.000000</td>\n",
       "      <td>400000.000000</td>\n",
       "      <td>400000.000000</td>\n",
       "      <td>400000.000000</td>\n",
       "      <td>400000.000000</td>\n",
       "      <td>400000.000000</td>\n",
       "      <td>400000.000000</td>\n",
       "      <td>400000.000000</td>\n",
       "      <td>400000.000000</td>\n",
       "      <td>400000.000000</td>\n",
       "      <td>...</td>\n",
       "      <td>400000.000000</td>\n",
       "      <td>400000.000000</td>\n",
       "      <td>400000.000000</td>\n",
       "      <td>400000.000000</td>\n",
       "      <td>400000.000000</td>\n",
       "      <td>400000.000000</td>\n",
       "      <td>400000.000000</td>\n",
       "      <td>400000.000000</td>\n",
       "      <td>400000.000000</td>\n",
       "      <td>400000.000000</td>\n",
       "      <td>400000.000000</td>\n",
       "      <td>400000.000000</td>\n",
       "      <td>400000.000000</td>\n",
       "      <td>400000.000000</td>\n",
       "      <td>400000.000000</td>\n",
       "      <td>400000.000000</td>\n",
       "      <td>400000.000000</td>\n",
       "      <td>400000.000000</td>\n",
       "      <td>400000.000000</td>\n",
       "      <td>400000.000000</td>\n",
       "      <td>400000.000000</td>\n",
       "      <td>400000.000000</td>\n",
       "      <td>400000.000000</td>\n",
       "      <td>400000.000000</td>\n",
       "      <td>400000.000000</td>\n",
       "    </tr>\n",
       "    <tr>\n",
       "      <th>mean</th>\n",
       "      <td>6.476895</td>\n",
       "      <td>3.319678</td>\n",
       "      <td>25.347213</td>\n",
       "      <td>0.142324</td>\n",
       "      <td>0.061910</td>\n",
       "      <td>1.239993</td>\n",
       "      <td>5.995737</td>\n",
       "      <td>0.288188</td>\n",
       "      <td>0.779617</td>\n",
       "      <td>2.209565</td>\n",
       "      <td>13.761680</td>\n",
       "      <td>0.195544</td>\n",
       "      <td>0.233395</td>\n",
       "      <td>2.266128</td>\n",
       "      <td>16.85772</td>\n",
       "      <td>0.182528</td>\n",
       "      <td>0.268632</td>\n",
       "      <td>1.003245</td>\n",
       "      <td>4.227952</td>\n",
       "      <td>0.279845</td>\n",
       "      <td>0.550390</td>\n",
       "      <td>1.286615</td>\n",
       "      <td>5.934155</td>\n",
       "      <td>0.305756</td>\n",
       "      <td>0.865745</td>\n",
       "      <td>...</td>\n",
       "      <td>0.595150</td>\n",
       "      <td>2.283202</td>\n",
       "      <td>17.954630</td>\n",
       "      <td>0.151193</td>\n",
       "      <td>0.145095</td>\n",
       "      <td>1.223413</td>\n",
       "      <td>5.487578</td>\n",
       "      <td>0.305749</td>\n",
       "      <td>0.865398</td>\n",
       "      <td>1.408573</td>\n",
       "      <td>14.254215</td>\n",
       "      <td>0.171071</td>\n",
       "      <td>0.338558</td>\n",
       "      <td>2.526430</td>\n",
       "      <td>19.188198</td>\n",
       "      <td>0.175863</td>\n",
       "      <td>0.238885</td>\n",
       "      <td>2.086368</td>\n",
       "      <td>14.386278</td>\n",
       "      <td>0.231052</td>\n",
       "      <td>0.493175</td>\n",
       "      <td>1.932750</td>\n",
       "      <td>14.563210</td>\n",
       "      <td>0.181071</td>\n",
       "      <td>0.269775</td>\n",
       "    </tr>\n",
       "    <tr>\n",
       "      <th>std</th>\n",
       "      <td>2.280374</td>\n",
       "      <td>1.875631</td>\n",
       "      <td>12.597680</td>\n",
       "      <td>0.058401</td>\n",
       "      <td>0.240992</td>\n",
       "      <td>0.623327</td>\n",
       "      <td>6.413024</td>\n",
       "      <td>0.086432</td>\n",
       "      <td>0.414505</td>\n",
       "      <td>1.372431</td>\n",
       "      <td>9.668098</td>\n",
       "      <td>0.081801</td>\n",
       "      <td>0.422992</td>\n",
       "      <td>1.165351</td>\n",
       "      <td>10.06648</td>\n",
       "      <td>0.096186</td>\n",
       "      <td>0.443249</td>\n",
       "      <td>0.074562</td>\n",
       "      <td>2.166004</td>\n",
       "      <td>0.087710</td>\n",
       "      <td>0.497455</td>\n",
       "      <td>0.969169</td>\n",
       "      <td>8.816446</td>\n",
       "      <td>0.071717</td>\n",
       "      <td>0.340927</td>\n",
       "      <td>...</td>\n",
       "      <td>0.490864</td>\n",
       "      <td>1.561688</td>\n",
       "      <td>11.360369</td>\n",
       "      <td>0.087100</td>\n",
       "      <td>0.352197</td>\n",
       "      <td>0.605430</td>\n",
       "      <td>6.582186</td>\n",
       "      <td>0.070932</td>\n",
       "      <td>0.341299</td>\n",
       "      <td>0.900649</td>\n",
       "      <td>9.734214</td>\n",
       "      <td>0.123401</td>\n",
       "      <td>0.473220</td>\n",
       "      <td>1.771927</td>\n",
       "      <td>13.301738</td>\n",
       "      <td>0.094793</td>\n",
       "      <td>0.426403</td>\n",
       "      <td>1.552680</td>\n",
       "      <td>14.356981</td>\n",
       "      <td>0.104493</td>\n",
       "      <td>0.499954</td>\n",
       "      <td>0.956156</td>\n",
       "      <td>8.641801</td>\n",
       "      <td>0.098051</td>\n",
       "      <td>0.443843</td>\n",
       "    </tr>\n",
       "    <tr>\n",
       "      <th>min</th>\n",
       "      <td>2.000000</td>\n",
       "      <td>1.000000</td>\n",
       "      <td>3.000000</td>\n",
       "      <td>0.033333</td>\n",
       "      <td>0.000000</td>\n",
       "      <td>1.000000</td>\n",
       "      <td>2.000000</td>\n",
       "      <td>0.035714</td>\n",
       "      <td>0.000000</td>\n",
       "      <td>1.000000</td>\n",
       "      <td>3.000000</td>\n",
       "      <td>0.071429</td>\n",
       "      <td>0.000000</td>\n",
       "      <td>0.000000</td>\n",
       "      <td>3.00000</td>\n",
       "      <td>0.000000</td>\n",
       "      <td>0.000000</td>\n",
       "      <td>1.000000</td>\n",
       "      <td>3.000000</td>\n",
       "      <td>0.071429</td>\n",
       "      <td>0.000000</td>\n",
       "      <td>1.000000</td>\n",
       "      <td>3.000000</td>\n",
       "      <td>0.071429</td>\n",
       "      <td>0.000000</td>\n",
       "      <td>...</td>\n",
       "      <td>0.000000</td>\n",
       "      <td>1.000000</td>\n",
       "      <td>3.000000</td>\n",
       "      <td>0.033333</td>\n",
       "      <td>0.000000</td>\n",
       "      <td>1.000000</td>\n",
       "      <td>3.000000</td>\n",
       "      <td>0.033333</td>\n",
       "      <td>0.000000</td>\n",
       "      <td>1.000000</td>\n",
       "      <td>3.000000</td>\n",
       "      <td>0.025000</td>\n",
       "      <td>0.000000</td>\n",
       "      <td>1.000000</td>\n",
       "      <td>2.000000</td>\n",
       "      <td>0.033333</td>\n",
       "      <td>0.000000</td>\n",
       "      <td>1.000000</td>\n",
       "      <td>3.000000</td>\n",
       "      <td>0.038462</td>\n",
       "      <td>0.000000</td>\n",
       "      <td>0.000000</td>\n",
       "      <td>1.000000</td>\n",
       "      <td>0.000000</td>\n",
       "      <td>0.000000</td>\n",
       "    </tr>\n",
       "    <tr>\n",
       "      <th>25%</th>\n",
       "      <td>5.000000</td>\n",
       "      <td>2.000000</td>\n",
       "      <td>17.000000</td>\n",
       "      <td>0.117647</td>\n",
       "      <td>0.000000</td>\n",
       "      <td>1.000000</td>\n",
       "      <td>3.000000</td>\n",
       "      <td>0.333333</td>\n",
       "      <td>1.000000</td>\n",
       "      <td>1.000000</td>\n",
       "      <td>5.000000</td>\n",
       "      <td>0.133333</td>\n",
       "      <td>0.000000</td>\n",
       "      <td>1.000000</td>\n",
       "      <td>3.00000</td>\n",
       "      <td>0.111111</td>\n",
       "      <td>0.000000</td>\n",
       "      <td>1.000000</td>\n",
       "      <td>3.000000</td>\n",
       "      <td>0.142857</td>\n",
       "      <td>0.000000</td>\n",
       "      <td>1.000000</td>\n",
       "      <td>3.000000</td>\n",
       "      <td>0.333333</td>\n",
       "      <td>1.000000</td>\n",
       "      <td>...</td>\n",
       "      <td>0.000000</td>\n",
       "      <td>1.000000</td>\n",
       "      <td>11.000000</td>\n",
       "      <td>0.090909</td>\n",
       "      <td>0.000000</td>\n",
       "      <td>1.000000</td>\n",
       "      <td>3.000000</td>\n",
       "      <td>0.333333</td>\n",
       "      <td>1.000000</td>\n",
       "      <td>1.000000</td>\n",
       "      <td>3.000000</td>\n",
       "      <td>0.062500</td>\n",
       "      <td>0.000000</td>\n",
       "      <td>1.000000</td>\n",
       "      <td>4.000000</td>\n",
       "      <td>0.107143</td>\n",
       "      <td>0.000000</td>\n",
       "      <td>1.000000</td>\n",
       "      <td>3.000000</td>\n",
       "      <td>0.136364</td>\n",
       "      <td>0.000000</td>\n",
       "      <td>1.000000</td>\n",
       "      <td>3.000000</td>\n",
       "      <td>0.105263</td>\n",
       "      <td>0.000000</td>\n",
       "    </tr>\n",
       "    <tr>\n",
       "      <th>50%</th>\n",
       "      <td>6.000000</td>\n",
       "      <td>3.000000</td>\n",
       "      <td>28.000000</td>\n",
       "      <td>0.133333</td>\n",
       "      <td>0.000000</td>\n",
       "      <td>1.000000</td>\n",
       "      <td>3.000000</td>\n",
       "      <td>0.333333</td>\n",
       "      <td>1.000000</td>\n",
       "      <td>2.000000</td>\n",
       "      <td>12.000000</td>\n",
       "      <td>0.166667</td>\n",
       "      <td>0.000000</td>\n",
       "      <td>2.000000</td>\n",
       "      <td>20.00000</td>\n",
       "      <td>0.142857</td>\n",
       "      <td>0.000000</td>\n",
       "      <td>1.000000</td>\n",
       "      <td>3.000000</td>\n",
       "      <td>0.333333</td>\n",
       "      <td>1.000000</td>\n",
       "      <td>1.000000</td>\n",
       "      <td>3.000000</td>\n",
       "      <td>0.333333</td>\n",
       "      <td>1.000000</td>\n",
       "      <td>...</td>\n",
       "      <td>1.000000</td>\n",
       "      <td>2.000000</td>\n",
       "      <td>14.000000</td>\n",
       "      <td>0.108696</td>\n",
       "      <td>0.000000</td>\n",
       "      <td>1.000000</td>\n",
       "      <td>3.000000</td>\n",
       "      <td>0.333333</td>\n",
       "      <td>1.000000</td>\n",
       "      <td>1.000000</td>\n",
       "      <td>12.000000</td>\n",
       "      <td>0.125000</td>\n",
       "      <td>0.000000</td>\n",
       "      <td>2.000000</td>\n",
       "      <td>20.000000</td>\n",
       "      <td>0.133333</td>\n",
       "      <td>0.000000</td>\n",
       "      <td>1.000000</td>\n",
       "      <td>7.000000</td>\n",
       "      <td>0.250000</td>\n",
       "      <td>0.000000</td>\n",
       "      <td>2.000000</td>\n",
       "      <td>17.000000</td>\n",
       "      <td>0.125000</td>\n",
       "      <td>0.000000</td>\n",
       "    </tr>\n",
       "    <tr>\n",
       "      <th>75%</th>\n",
       "      <td>8.000000</td>\n",
       "      <td>5.000000</td>\n",
       "      <td>30.000000</td>\n",
       "      <td>0.153846</td>\n",
       "      <td>0.000000</td>\n",
       "      <td>1.000000</td>\n",
       "      <td>3.000000</td>\n",
       "      <td>0.333333</td>\n",
       "      <td>1.000000</td>\n",
       "      <td>2.000000</td>\n",
       "      <td>18.000000</td>\n",
       "      <td>0.217391</td>\n",
       "      <td>0.000000</td>\n",
       "      <td>3.000000</td>\n",
       "      <td>25.00000</td>\n",
       "      <td>0.333333</td>\n",
       "      <td>1.000000</td>\n",
       "      <td>1.000000</td>\n",
       "      <td>7.000000</td>\n",
       "      <td>0.333333</td>\n",
       "      <td>1.000000</td>\n",
       "      <td>1.000000</td>\n",
       "      <td>3.000000</td>\n",
       "      <td>0.333333</td>\n",
       "      <td>1.000000</td>\n",
       "      <td>...</td>\n",
       "      <td>1.000000</td>\n",
       "      <td>3.000000</td>\n",
       "      <td>26.000000</td>\n",
       "      <td>0.166667</td>\n",
       "      <td>0.000000</td>\n",
       "      <td>1.000000</td>\n",
       "      <td>3.000000</td>\n",
       "      <td>0.333333</td>\n",
       "      <td>1.000000</td>\n",
       "      <td>1.000000</td>\n",
       "      <td>26.000000</td>\n",
       "      <td>0.333333</td>\n",
       "      <td>1.000000</td>\n",
       "      <td>3.000000</td>\n",
       "      <td>28.000000</td>\n",
       "      <td>0.250000</td>\n",
       "      <td>0.000000</td>\n",
       "      <td>3.000000</td>\n",
       "      <td>22.000000</td>\n",
       "      <td>0.333333</td>\n",
       "      <td>1.000000</td>\n",
       "      <td>2.000000</td>\n",
       "      <td>19.000000</td>\n",
       "      <td>0.333333</td>\n",
       "      <td>1.000000</td>\n",
       "    </tr>\n",
       "    <tr>\n",
       "      <th>max</th>\n",
       "      <td>14.000000</td>\n",
       "      <td>12.000000</td>\n",
       "      <td>73.000000</td>\n",
       "      <td>0.400000</td>\n",
       "      <td>1.000000</td>\n",
       "      <td>5.000000</td>\n",
       "      <td>48.000000</td>\n",
       "      <td>0.500000</td>\n",
       "      <td>1.000000</td>\n",
       "      <td>9.000000</td>\n",
       "      <td>50.000000</td>\n",
       "      <td>0.333333</td>\n",
       "      <td>1.000000</td>\n",
       "      <td>8.000000</td>\n",
       "      <td>49.00000</td>\n",
       "      <td>0.333333</td>\n",
       "      <td>1.000000</td>\n",
       "      <td>6.000000</td>\n",
       "      <td>39.000000</td>\n",
       "      <td>0.333333</td>\n",
       "      <td>1.000000</td>\n",
       "      <td>9.000000</td>\n",
       "      <td>60.000000</td>\n",
       "      <td>0.333333</td>\n",
       "      <td>1.000000</td>\n",
       "      <td>...</td>\n",
       "      <td>1.000000</td>\n",
       "      <td>8.000000</td>\n",
       "      <td>64.000000</td>\n",
       "      <td>0.333333</td>\n",
       "      <td>1.000000</td>\n",
       "      <td>5.000000</td>\n",
       "      <td>43.000000</td>\n",
       "      <td>0.333333</td>\n",
       "      <td>1.000000</td>\n",
       "      <td>7.000000</td>\n",
       "      <td>40.000000</td>\n",
       "      <td>0.333333</td>\n",
       "      <td>1.000000</td>\n",
       "      <td>15.000000</td>\n",
       "      <td>123.000000</td>\n",
       "      <td>0.500000</td>\n",
       "      <td>1.000000</td>\n",
       "      <td>11.000000</td>\n",
       "      <td>66.000000</td>\n",
       "      <td>0.333333</td>\n",
       "      <td>1.000000</td>\n",
       "      <td>7.000000</td>\n",
       "      <td>45.000000</td>\n",
       "      <td>0.500000</td>\n",
       "      <td>1.000000</td>\n",
       "    </tr>\n",
       "  </tbody>\n",
       "</table>\n",
       "<p>8 rows × 57 columns</p>\n",
       "</div>"
      ],
      "text/plain": [
       "            NanCount  Object_DescriptionWCount  Object_DescriptionSymCount  \\\n",
       "count  400000.000000             400000.000000               400000.000000   \n",
       "mean        6.476895                  3.319678                   25.347213   \n",
       "std         2.280374                  1.875631                   12.597680   \n",
       "min         2.000000                  1.000000                    3.000000   \n",
       "25%         5.000000                  2.000000                   17.000000   \n",
       "50%         6.000000                  3.000000                   28.000000   \n",
       "75%         8.000000                  5.000000                   30.000000   \n",
       "max        14.000000                 12.000000                   73.000000   \n",
       "\n",
       "       Object_DescriptionWSRatio  Object_DescriptionIsNa   Text_2WCount  \\\n",
       "count              400000.000000           400000.000000  400000.000000   \n",
       "mean                    0.142324                0.061910       1.239993   \n",
       "std                     0.058401                0.240992       0.623327   \n",
       "min                     0.033333                0.000000       1.000000   \n",
       "25%                     0.117647                0.000000       1.000000   \n",
       "50%                     0.133333                0.000000       1.000000   \n",
       "75%                     0.153846                0.000000       1.000000   \n",
       "max                     0.400000                1.000000       5.000000   \n",
       "\n",
       "       Text_2SymCount  Text_2WSRatio     Text_2IsNa  \\\n",
       "count   400000.000000  400000.000000  400000.000000   \n",
       "mean         5.995737       0.288188       0.779617   \n",
       "std          6.413024       0.086432       0.414505   \n",
       "min          2.000000       0.035714       0.000000   \n",
       "25%          3.000000       0.333333       1.000000   \n",
       "50%          3.000000       0.333333       1.000000   \n",
       "75%          3.000000       0.333333       1.000000   \n",
       "max         48.000000       0.500000       1.000000   \n",
       "\n",
       "       SubFund_DescriptionWCount  SubFund_DescriptionSymCount  \\\n",
       "count              400000.000000                400000.000000   \n",
       "mean                    2.209565                    13.761680   \n",
       "std                     1.372431                     9.668098   \n",
       "min                     1.000000                     3.000000   \n",
       "25%                     1.000000                     5.000000   \n",
       "50%                     2.000000                    12.000000   \n",
       "75%                     2.000000                    18.000000   \n",
       "max                     9.000000                    50.000000   \n",
       "\n",
       "       SubFund_DescriptionWSRatio  SubFund_DescriptionIsNa  \\\n",
       "count               400000.000000            400000.000000   \n",
       "mean                     0.195544                 0.233395   \n",
       "std                      0.081801                 0.422992   \n",
       "min                      0.071429                 0.000000   \n",
       "25%                      0.133333                 0.000000   \n",
       "50%                      0.166667                 0.000000   \n",
       "75%                      0.217391                 0.000000   \n",
       "max                      0.333333                 1.000000   \n",
       "\n",
       "       Job_Title_DescriptionWCount  Job_Title_DescriptionSymCount  \\\n",
       "count                400000.000000                   400000.00000   \n",
       "mean                      2.266128                       16.85772   \n",
       "std                       1.165351                       10.06648   \n",
       "min                       0.000000                        3.00000   \n",
       "25%                       1.000000                        3.00000   \n",
       "50%                       2.000000                       20.00000   \n",
       "75%                       3.000000                       25.00000   \n",
       "max                       8.000000                       49.00000   \n",
       "\n",
       "       Job_Title_DescriptionWSRatio  Job_Title_DescriptionIsNa   Text_3WCount  \\\n",
       "count                 400000.000000              400000.000000  400000.000000   \n",
       "mean                       0.182528                   0.268632       1.003245   \n",
       "std                        0.096186                   0.443249       0.074562   \n",
       "min                        0.000000                   0.000000       1.000000   \n",
       "25%                        0.111111                   0.000000       1.000000   \n",
       "50%                        0.142857                   0.000000       1.000000   \n",
       "75%                        0.333333                   1.000000       1.000000   \n",
       "max                        0.333333                   1.000000       6.000000   \n",
       "\n",
       "       Text_3SymCount  Text_3WSRatio     Text_3IsNa   Text_4WCount  \\\n",
       "count   400000.000000  400000.000000  400000.000000  400000.000000   \n",
       "mean         4.227952       0.279845       0.550390       1.286615   \n",
       "std          2.166004       0.087710       0.497455       0.969169   \n",
       "min          3.000000       0.071429       0.000000       1.000000   \n",
       "25%          3.000000       0.142857       0.000000       1.000000   \n",
       "50%          3.000000       0.333333       1.000000       1.000000   \n",
       "75%          7.000000       0.333333       1.000000       1.000000   \n",
       "max         39.000000       0.333333       1.000000       9.000000   \n",
       "\n",
       "       Text_4SymCount  Text_4WSRatio     Text_4IsNa      ...        \\\n",
       "count   400000.000000  400000.000000  400000.000000      ...         \n",
       "mean         5.934155       0.305756       0.865745      ...         \n",
       "std          8.816446       0.071717       0.340927      ...         \n",
       "min          3.000000       0.071429       0.000000      ...         \n",
       "25%          3.000000       0.333333       1.000000      ...         \n",
       "50%          3.000000       0.333333       1.000000      ...         \n",
       "75%          3.000000       0.333333       1.000000      ...         \n",
       "max         60.000000       0.333333       1.000000      ...         \n",
       "\n",
       "       Location_DescriptionIsNa  Function_DescriptionWCount  \\\n",
       "count             400000.000000               400000.000000   \n",
       "mean                   0.595150                    2.283202   \n",
       "std                    0.490864                    1.561688   \n",
       "min                    0.000000                    1.000000   \n",
       "25%                    0.000000                    1.000000   \n",
       "50%                    1.000000                    2.000000   \n",
       "75%                    1.000000                    3.000000   \n",
       "max                    1.000000                    8.000000   \n",
       "\n",
       "       Function_DescriptionSymCount  Function_DescriptionWSRatio  \\\n",
       "count                 400000.000000                400000.000000   \n",
       "mean                      17.954630                     0.151193   \n",
       "std                       11.360369                     0.087100   \n",
       "min                        3.000000                     0.033333   \n",
       "25%                       11.000000                     0.090909   \n",
       "50%                       14.000000                     0.108696   \n",
       "75%                       26.000000                     0.166667   \n",
       "max                       64.000000                     0.333333   \n",
       "\n",
       "       Function_DescriptionIsNa  Facility_or_DepartmentWCount  \\\n",
       "count             400000.000000                 400000.000000   \n",
       "mean                   0.145095                      1.223413   \n",
       "std                    0.352197                      0.605430   \n",
       "min                    0.000000                      1.000000   \n",
       "25%                    0.000000                      1.000000   \n",
       "50%                    0.000000                      1.000000   \n",
       "75%                    0.000000                      1.000000   \n",
       "max                    1.000000                      5.000000   \n",
       "\n",
       "       Facility_or_DepartmentSymCount  Facility_or_DepartmentWSRatio  \\\n",
       "count                   400000.000000                  400000.000000   \n",
       "mean                         5.487578                       0.305749   \n",
       "std                          6.582186                       0.070932   \n",
       "min                          3.000000                       0.033333   \n",
       "25%                          3.000000                       0.333333   \n",
       "50%                          3.000000                       0.333333   \n",
       "75%                          3.000000                       0.333333   \n",
       "max                         43.000000                       0.333333   \n",
       "\n",
       "       Facility_or_DepartmentIsNa  Position_ExtraWCount  \\\n",
       "count               400000.000000         400000.000000   \n",
       "mean                     0.865398              1.408573   \n",
       "std                      0.341299              0.900649   \n",
       "min                      0.000000              1.000000   \n",
       "25%                      1.000000              1.000000   \n",
       "50%                      1.000000              1.000000   \n",
       "75%                      1.000000              1.000000   \n",
       "max                      1.000000              7.000000   \n",
       "\n",
       "       Position_ExtraSymCount  Position_ExtraWSRatio  Position_ExtraIsNa  \\\n",
       "count           400000.000000          400000.000000       400000.000000   \n",
       "mean                14.254215               0.171071            0.338558   \n",
       "std                  9.734214               0.123401            0.473220   \n",
       "min                  3.000000               0.025000            0.000000   \n",
       "25%                  3.000000               0.062500            0.000000   \n",
       "50%                 12.000000               0.125000            0.000000   \n",
       "75%                 26.000000               0.333333            1.000000   \n",
       "max                 40.000000               0.333333            1.000000   \n",
       "\n",
       "       Program_DescriptionWCount  Program_DescriptionSymCount  \\\n",
       "count              400000.000000                400000.000000   \n",
       "mean                    2.526430                    19.188198   \n",
       "std                     1.771927                    13.301738   \n",
       "min                     1.000000                     2.000000   \n",
       "25%                     1.000000                     4.000000   \n",
       "50%                     2.000000                    20.000000   \n",
       "75%                     3.000000                    28.000000   \n",
       "max                    15.000000                   123.000000   \n",
       "\n",
       "       Program_DescriptionWSRatio  Program_DescriptionIsNa  \\\n",
       "count               400000.000000            400000.000000   \n",
       "mean                     0.175863                 0.238885   \n",
       "std                      0.094793                 0.426403   \n",
       "min                      0.033333                 0.000000   \n",
       "25%                      0.107143                 0.000000   \n",
       "50%                      0.133333                 0.000000   \n",
       "75%                      0.250000                 0.000000   \n",
       "max                      0.500000                 1.000000   \n",
       "\n",
       "       Fund_DescriptionWCount  Fund_DescriptionSymCount  \\\n",
       "count           400000.000000             400000.000000   \n",
       "mean                 2.086368                 14.386278   \n",
       "std                  1.552680                 14.356981   \n",
       "min                  1.000000                  3.000000   \n",
       "25%                  1.000000                  3.000000   \n",
       "50%                  1.000000                  7.000000   \n",
       "75%                  3.000000                 22.000000   \n",
       "max                 11.000000                 66.000000   \n",
       "\n",
       "       Fund_DescriptionWSRatio  Fund_DescriptionIsNa   Text_1WCount  \\\n",
       "count            400000.000000         400000.000000  400000.000000   \n",
       "mean                  0.231052              0.493175       1.932750   \n",
       "std                   0.104493              0.499954       0.956156   \n",
       "min                   0.038462              0.000000       0.000000   \n",
       "25%                   0.136364              0.000000       1.000000   \n",
       "50%                   0.250000              0.000000       2.000000   \n",
       "75%                   0.333333              1.000000       2.000000   \n",
       "max                   0.333333              1.000000       7.000000   \n",
       "\n",
       "       Text_1SymCount  Text_1WSRatio     Text_1IsNa  \n",
       "count   400000.000000  400000.000000  400000.000000  \n",
       "mean        14.563210       0.181071       0.269775  \n",
       "std          8.641801       0.098051       0.443843  \n",
       "min          1.000000       0.000000       0.000000  \n",
       "25%          3.000000       0.105263       0.000000  \n",
       "50%         17.000000       0.125000       0.000000  \n",
       "75%         19.000000       0.333333       1.000000  \n",
       "max         45.000000       0.500000       1.000000  \n",
       "\n",
       "[8 rows x 57 columns]"
      ]
     },
     "execution_count": 41,
     "metadata": {},
     "output_type": "execute_result"
    }
   ],
   "source": [
    "print len(words_stst_cols)\n",
    "dall[words_stst_cols].describe(include='all')"
   ]
  },
  {
   "cell_type": "markdown",
   "metadata": {},
   "source": [
    "# Prepare to RUN"
   ]
  },
  {
   "cell_type": "code",
   "execution_count": 181,
   "metadata": {
    "collapsed": false
   },
   "outputs": [
    {
     "data": {
      "text/plain": [
       "list"
      ]
     },
     "execution_count": 181,
     "metadata": {},
     "output_type": "execute_result"
    }
   ],
   "source": [
    "best3ws_cols = ['Job_Title_DescriptionWSRatio','Job_Title_DescriptionSymCount','Position_ExtraWSRatio']\n",
    "best6ws_cols=['Job_Title_DescriptionWSRatio','Job_Title_DescriptionSymCount','Object_DescriptionWSRatio','Function_DescriptionWSRatio','Object_DescriptionSymCount','Text_1WSRatio']\n",
    "BoWcols = ['X19','X0','X16','X7','X17','X15','X9']\n",
    "BoWcolsNums = [19,0,16,7,17,15,9]\n",
    "best2FteTot = ['TotalPosLog','TotalNegLog','FTE']\n",
    "tot_fte_cols=total_cols+fte_cols+q_cols\n",
    "type(tot_fte_cols)"
   ]
  },
  {
   "cell_type": "code",
   "execution_count": 184,
   "metadata": {
    "collapsed": false
   },
   "outputs": [
    {
     "data": {
      "text/plain": [
       "(400000, 7)"
      ]
     },
     "execution_count": 184,
     "metadata": {},
     "output_type": "execute_result"
    }
   ],
   "source": [
    "np.shape(Xall[:,BoWcolsNums])"
   ]
  },
  {
   "cell_type": "code",
   "execution_count": 201,
   "metadata": {
    "collapsed": false
   },
   "outputs": [],
   "source": [
    "#Xall = np.array(dall.ix[:, 9:])\n",
    "#Xall = np.array(dall[tot_fte_cols])\n",
    "#Xall = np.array(dall[other_columns+best6ws_cols])\n",
    "#words_stst_cols\n",
    "\n",
    "####    GOLD!!!!!! Xall=np.array(dall[other_columns+best2FteTot])\n",
    "#XotherBest2FteTot=np.copy(Xall)\n",
    "#XothBst2FtT_3ws = np.copy(Xall)\n",
    "\n",
    "#Xall = np.hstack((XotherBest2FteTot,np.array(dall[best3ws_cols])))\n",
    "\n",
    "Xall=np.copy(XothBst2FtT_3ws)\n",
    "\n",
    "#Xall = np.hstack((XothBst2FtT_3ws,Xall[:,BoWcolsNums]))\n",
    "\n",
    "#Xall=np.array(dall[other_columns+best2FteTot+best3ws_cols])\n",
    "\n",
    "#all_col=other_columns+best2FteTot+best3ws_cols+BoWcols\n",
    "\n",
    "#Xother=np.copy(Xall)\n",
    "#Xother_best6ws=np.copy(Xall)\n",
    "#Xall = np.array(dall[other_columns+best4ws_cols])#+q_cols])"
   ]
  },
  {
   "cell_type": "code",
   "execution_count": 151,
   "metadata": {
    "collapsed": false
   },
   "outputs": [
    {
     "data": {
      "text/html": [
       "<div>\n",
       "<table border=\"1\" class=\"dataframe\">\n",
       "  <thead>\n",
       "    <tr style=\"text-align: right;\">\n",
       "      <th></th>\n",
       "      <th>Job_Title_DescriptionWSRatio</th>\n",
       "      <th>Job_Title_DescriptionSymCount</th>\n",
       "      <th>Position_ExtraWSRatio</th>\n",
       "    </tr>\n",
       "  </thead>\n",
       "  <tbody>\n",
       "    <tr>\n",
       "      <th>0</th>\n",
       "      <td>0.333333</td>\n",
       "      <td>3</td>\n",
       "      <td>0.333333</td>\n",
       "    </tr>\n",
       "    <tr>\n",
       "      <th>1</th>\n",
       "      <td>0.130435</td>\n",
       "      <td>23</td>\n",
       "      <td>0.100000</td>\n",
       "    </tr>\n",
       "  </tbody>\n",
       "</table>\n",
       "</div>"
      ],
      "text/plain": [
       "   Job_Title_DescriptionWSRatio  Job_Title_DescriptionSymCount  \\\n",
       "0                      0.333333                              3   \n",
       "1                      0.130435                             23   \n",
       "\n",
       "   Position_ExtraWSRatio  \n",
       "0               0.333333  \n",
       "1               0.100000  "
      ]
     },
     "execution_count": 151,
     "metadata": {},
     "output_type": "execute_result"
    }
   ],
   "source": [
    "dall[best3ws_cols].head(2)"
   ]
  },
  {
   "cell_type": "code",
   "execution_count": 202,
   "metadata": {
    "collapsed": false
   },
   "outputs": [
    {
     "data": {
      "text/html": [
       "<div>\n",
       "<table border=\"1\" class=\"dataframe\">\n",
       "  <thead>\n",
       "    <tr style=\"text-align: right;\">\n",
       "      <th></th>\n",
       "      <th>0</th>\n",
       "      <th>1</th>\n",
       "      <th>2</th>\n",
       "      <th>3</th>\n",
       "      <th>4</th>\n",
       "      <th>5</th>\n",
       "      <th>6</th>\n",
       "      <th>7</th>\n",
       "      <th>8</th>\n",
       "      <th>9</th>\n",
       "      <th>10</th>\n",
       "      <th>11</th>\n",
       "      <th>12</th>\n",
       "      <th>13</th>\n",
       "      <th>14</th>\n",
       "      <th>15</th>\n",
       "      <th>16</th>\n",
       "      <th>17</th>\n",
       "      <th>18</th>\n",
       "      <th>19</th>\n",
       "    </tr>\n",
       "  </thead>\n",
       "  <tbody>\n",
       "    <tr>\n",
       "      <th>0</th>\n",
       "      <td>495</td>\n",
       "      <td>0</td>\n",
       "      <td>135</td>\n",
       "      <td>0</td>\n",
       "      <td>0</td>\n",
       "      <td>0</td>\n",
       "      <td>0</td>\n",
       "      <td>7</td>\n",
       "      <td>340</td>\n",
       "      <td>0</td>\n",
       "      <td>0</td>\n",
       "      <td>226</td>\n",
       "      <td>51</td>\n",
       "      <td>0</td>\n",
       "      <td>8.729221</td>\n",
       "      <td>0</td>\n",
       "      <td>0</td>\n",
       "      <td>0.333333</td>\n",
       "      <td>3</td>\n",
       "      <td>0.333333</td>\n",
       "    </tr>\n",
       "    <tr>\n",
       "      <th>1</th>\n",
       "      <td>502</td>\n",
       "      <td>0</td>\n",
       "      <td>7</td>\n",
       "      <td>2950</td>\n",
       "      <td>0</td>\n",
       "      <td>0</td>\n",
       "      <td>51</td>\n",
       "      <td>319</td>\n",
       "      <td>312</td>\n",
       "      <td>84</td>\n",
       "      <td>106</td>\n",
       "      <td>4</td>\n",
       "      <td>4</td>\n",
       "      <td>933</td>\n",
       "      <td>5.623765</td>\n",
       "      <td>0</td>\n",
       "      <td>0</td>\n",
       "      <td>0.130435</td>\n",
       "      <td>23</td>\n",
       "      <td>0.100000</td>\n",
       "    </tr>\n",
       "  </tbody>\n",
       "</table>\n",
       "</div>"
      ],
      "text/plain": [
       "    0   1    2     3   4   5   6    7    8   9    10   11  12   13        14  \\\n",
       "0  495   0  135     0   0   0   0    7  340   0    0  226  51    0  8.729221   \n",
       "1  502   0    7  2950   0   0  51  319  312  84  106    4   4  933  5.623765   \n",
       "\n",
       "   15  16        17  18        19  \n",
       "0   0   0  0.333333   3  0.333333  \n",
       "1   0   0  0.130435  23  0.100000  "
      ]
     },
     "execution_count": 202,
     "metadata": {},
     "output_type": "execute_result"
    }
   ],
   "source": [
    "pd.DataFrame(Xall).head(2)"
   ]
  },
  {
   "cell_type": "code",
   "execution_count": 195,
   "metadata": {
    "collapsed": true
   },
   "outputs": [],
   "source": [
    "final_list=['TotalPosLog','Job_Title_Description','Object_Description','Function_Description','Location_Description','Text_1','TotalNegLog','Program_Description','Job_Title_DescriptionWSRatio','SubFund_Description','Job_Title_DescriptionSymCount','Position_Extra','Text_2','Fund_Description','Sub_Object_Description']"
   ]
  },
  {
   "cell_type": "code",
   "execution_count": 196,
   "metadata": {
    "collapsed": false
   },
   "outputs": [
    {
     "data": {
      "text/plain": [
       "(400000, 15)"
      ]
     },
     "execution_count": 196,
     "metadata": {},
     "output_type": "execute_result"
    }
   ],
   "source": [
    "np.shape(XallFinal[final_list])"
   ]
  },
  {
   "cell_type": "code",
   "execution_count": 197,
   "metadata": {
    "collapsed": false
   },
   "outputs": [
    {
     "data": {
      "text/plain": [
       "(400000, 15)"
      ]
     },
     "execution_count": 197,
     "metadata": {},
     "output_type": "execute_result"
    }
   ],
   "source": [
    "Xall = np.array(XallFinal[final_list])\n",
    "np.shape(Xall)"
   ]
  },
  {
   "cell_type": "code",
   "execution_count": 187,
   "metadata": {
    "collapsed": true
   },
   "outputs": [],
   "source": [
    "gibaindtrain1 = []\n",
    "gibaindtrain2 = []\n",
    "CFOLDS=5\n",
    "\n",
    "for giba in range(CFOLDS):\n",
    "    gibaindtrain1.append(arange(len(dtrain))[arange(len(dtrain)) % CFOLDS != giba])\n",
    "    gibaindtrain2.append(arange(len(dtrain))[arange(len(dtrain)) % CFOLDS == giba])"
   ]
  },
  {
   "cell_type": "markdown",
   "metadata": {},
   "source": [
    "# Feature Importance"
   ]
  },
  {
   "cell_type": "code",
   "execution_count": 43,
   "metadata": {
    "collapsed": false
   },
   "outputs": [
    {
     "name": "stderr",
     "output_type": "stream",
     "text": [
      "/home/atselikov/anaconda2/lib/python2.7/site-packages/ipykernel/__main__.py:14: FutureWarning: sort(columns=....) is deprecated, use sort_values(by=.....)\n"
     ]
    }
   ],
   "source": [
    "    f_columns = dall[words_stst_cols].columns\n",
    "    for colpred in dall.columns[:1]:\n",
    "            indtrain1 = gibaindtrain1[0]\n",
    "            Xtrain = Xall[:len(dtrain)]\n",
    "            #Xtest = Xall[len(dtrain):]\n",
    "            ytrain = np.array(dall[colpred])[:len(dtrain)]\n",
    "            \n",
    "            Xtrain = pd.DataFrame(Xtrain).loc[indtrain1]\n",
    "            ytrain = ytrain[indtrain1]\n",
    "            \n",
    "            model = RandomForestClassifier(n_estimators = 200, n_jobs = -1, random_state=rs)\n",
    "            model.fit(Xtrain, ytrain)\n",
    "            feat_imp = pd.DataFrame(model.feature_importances_, index=f_columns,\n",
    "             columns=['Importance']).sort(['Importance'], ascending=False)            "
   ]
  },
  {
   "cell_type": "code",
   "execution_count": 190,
   "metadata": {
    "collapsed": false
   },
   "outputs": [
    {
     "name": "stdout",
     "output_type": "stream",
     "text": [
      "CPU times: user 1h 1min 27s, sys: 12 s, total: 1h 1min 39s\n",
      "Wall time: 5min 10s\n"
     ]
    }
   ],
   "source": [
    "%%time\n",
    "def create_feature_map(features):\n",
    "    outfile = open('xgb.fmap', 'w')\n",
    "    i = 0\n",
    "    for feat in features:\n",
    "        outfile.write('{0}\\t{1}\\tq\\n'.format(i, feat))\n",
    "        i = i + 1\n",
    "\n",
    "    outfile.close()\n",
    "\n",
    "param = {}\n",
    "param['booster'] = 'gbtree'\n",
    "param['objective'] = 'multi:softprob'\n",
    "param['eval_metric'] = 'rmse'\n",
    "param['num_class'] = 37\n",
    "param['bst:eta'] = 0.4\n",
    "param['nthread'] = 15\n",
    "param['silent'] = 1\n",
    "param['bst:max_depth'] = 15\n",
    "param['bst:colsample_bytree'] = 0.85\n",
    "num_round = 50\n",
    "watchlist = []\n",
    "col_set=dall.columns[:1]\n",
    "rs=10\n",
    "arres = []\n",
    "arrlos = []\n",
    "allypred = np.zeros((len(dtrain), 37))\n",
    "\n",
    "col_names=[]\n",
    "#f_columns = dall[tot_fte_cols].columns\n",
    "#create_feature_map(f_columns)\n",
    "for colpred in col_set:\n",
    "        indtrain1 = gibaindtrain1[0]\n",
    "        Xtrain = Xall[:len(dtrain)]\n",
    "        ytrain = np.array(dall[colpred])[:len(dtrain)]        \n",
    "        Xtrain = pd.DataFrame(Xtrain).loc[indtrain1]\n",
    "        ytrain = ytrain[indtrain1]\n",
    "        for i in range(len(Xtrain.columns)):\n",
    "            col_names.append('X'+str(i))\n",
    "        Xtrain.columns =col_names\n",
    "        mod = xgb.train(param, xgb.DMatrix(data = Xtrain, label = ytrain), num_round, watchlist)"
   ]
  },
  {
   "cell_type": "code",
   "execution_count": 191,
   "metadata": {
    "collapsed": true
   },
   "outputs": [],
   "source": [
    "import operator\n",
    "create_feature_map(all_col)\n",
    "importance = mod.get_fscore(fmap='xgb.fmap')\n",
    "importance = sorted(importance.items(), key=operator.itemgetter(1), reverse=True)\n",
    "df = pd.DataFrame(importance, columns=['feature', 'fscore'])\n",
    "df['fscore'] = df['fscore'] / df['fscore'].sum()"
   ]
  },
  {
   "cell_type": "code",
   "execution_count": 193,
   "metadata": {
    "collapsed": false
   },
   "outputs": [
    {
     "data": {
      "text/html": [
       "<div>\n",
       "<table border=\"1\" class=\"dataframe\">\n",
       "  <thead>\n",
       "    <tr style=\"text-align: right;\">\n",
       "      <th></th>\n",
       "      <th>feature</th>\n",
       "      <th>fscore</th>\n",
       "    </tr>\n",
       "  </thead>\n",
       "  <tbody>\n",
       "    <tr>\n",
       "      <th>0</th>\n",
       "      <td>TotalPosLog</td>\n",
       "      <td>0.215775</td>\n",
       "    </tr>\n",
       "    <tr>\n",
       "      <th>1</th>\n",
       "      <td>Job_Title_Description</td>\n",
       "      <td>0.088534</td>\n",
       "    </tr>\n",
       "    <tr>\n",
       "      <th>2</th>\n",
       "      <td>Object_Description</td>\n",
       "      <td>0.066864</td>\n",
       "    </tr>\n",
       "    <tr>\n",
       "      <th>3</th>\n",
       "      <td>Function_Description</td>\n",
       "      <td>0.065779</td>\n",
       "    </tr>\n",
       "    <tr>\n",
       "      <th>4</th>\n",
       "      <td>Location_Description</td>\n",
       "      <td>0.064962</td>\n",
       "    </tr>\n",
       "    <tr>\n",
       "      <th>5</th>\n",
       "      <td>Text_1</td>\n",
       "      <td>0.062799</td>\n",
       "    </tr>\n",
       "    <tr>\n",
       "      <th>6</th>\n",
       "      <td>TotalNegLog</td>\n",
       "      <td>0.051254</td>\n",
       "    </tr>\n",
       "    <tr>\n",
       "      <th>7</th>\n",
       "      <td>Program_Description</td>\n",
       "      <td>0.042032</td>\n",
       "    </tr>\n",
       "    <tr>\n",
       "      <th>8</th>\n",
       "      <td>Job_Title_DescriptionWSRatio</td>\n",
       "      <td>0.041619</td>\n",
       "    </tr>\n",
       "    <tr>\n",
       "      <th>9</th>\n",
       "      <td>SubFund_Description</td>\n",
       "      <td>0.033910</td>\n",
       "    </tr>\n",
       "    <tr>\n",
       "      <th>10</th>\n",
       "      <td>Job_Title_DescriptionSymCount</td>\n",
       "      <td>0.032236</td>\n",
       "    </tr>\n",
       "    <tr>\n",
       "      <th>11</th>\n",
       "      <td>Position_Extra</td>\n",
       "      <td>0.030051</td>\n",
       "    </tr>\n",
       "    <tr>\n",
       "      <th>12</th>\n",
       "      <td>Text_2</td>\n",
       "      <td>0.027171</td>\n",
       "    </tr>\n",
       "    <tr>\n",
       "      <th>13</th>\n",
       "      <td>Fund_Description</td>\n",
       "      <td>0.022311</td>\n",
       "    </tr>\n",
       "    <tr>\n",
       "      <th>14</th>\n",
       "      <td>Sub_Object_Description</td>\n",
       "      <td>0.021371</td>\n",
       "    </tr>\n",
       "    <tr>\n",
       "      <th>15</th>\n",
       "      <td>Facility_or_Department</td>\n",
       "      <td>0.019293</td>\n",
       "    </tr>\n",
       "    <tr>\n",
       "      <th>16</th>\n",
       "      <td>FTE</td>\n",
       "      <td>0.017979</td>\n",
       "    </tr>\n",
       "    <tr>\n",
       "      <th>17</th>\n",
       "      <td>Text_4</td>\n",
       "      <td>0.015526</td>\n",
       "    </tr>\n",
       "    <tr>\n",
       "      <th>18</th>\n",
       "      <td>Text_3</td>\n",
       "      <td>0.014433</td>\n",
       "    </tr>\n",
       "    <tr>\n",
       "      <th>19</th>\n",
       "      <td>Position_ExtraWSRatio</td>\n",
       "      <td>0.014304</td>\n",
       "    </tr>\n",
       "    <tr>\n",
       "      <th>20</th>\n",
       "      <td>X0</td>\n",
       "      <td>0.012707</td>\n",
       "    </tr>\n",
       "    <tr>\n",
       "      <th>21</th>\n",
       "      <td>X7</td>\n",
       "      <td>0.012363</td>\n",
       "    </tr>\n",
       "    <tr>\n",
       "      <th>22</th>\n",
       "      <td>X17</td>\n",
       "      <td>0.009421</td>\n",
       "    </tr>\n",
       "    <tr>\n",
       "      <th>23</th>\n",
       "      <td>X15</td>\n",
       "      <td>0.008879</td>\n",
       "    </tr>\n",
       "    <tr>\n",
       "      <th>24</th>\n",
       "      <td>X16</td>\n",
       "      <td>0.003110</td>\n",
       "    </tr>\n",
       "    <tr>\n",
       "      <th>25</th>\n",
       "      <td>X9</td>\n",
       "      <td>0.003079</td>\n",
       "    </tr>\n",
       "    <tr>\n",
       "      <th>26</th>\n",
       "      <td>X19</td>\n",
       "      <td>0.002239</td>\n",
       "    </tr>\n",
       "  </tbody>\n",
       "</table>\n",
       "</div>"
      ],
      "text/plain": [
       "                          feature    fscore\n",
       "0                     TotalPosLog  0.215775\n",
       "1           Job_Title_Description  0.088534\n",
       "2              Object_Description  0.066864\n",
       "3            Function_Description  0.065779\n",
       "4            Location_Description  0.064962\n",
       "5                          Text_1  0.062799\n",
       "6                     TotalNegLog  0.051254\n",
       "7             Program_Description  0.042032\n",
       "8    Job_Title_DescriptionWSRatio  0.041619\n",
       "9             SubFund_Description  0.033910\n",
       "10  Job_Title_DescriptionSymCount  0.032236\n",
       "11                 Position_Extra  0.030051\n",
       "12                         Text_2  0.027171\n",
       "13               Fund_Description  0.022311\n",
       "14         Sub_Object_Description  0.021371\n",
       "15         Facility_or_Department  0.019293\n",
       "16                            FTE  0.017979\n",
       "17                         Text_4  0.015526\n",
       "18                         Text_3  0.014433\n",
       "19          Position_ExtraWSRatio  0.014304\n",
       "20                             X0  0.012707\n",
       "21                             X7  0.012363\n",
       "22                            X17  0.009421\n",
       "23                            X15  0.008879\n",
       "24                            X16  0.003110\n",
       "25                             X9  0.003079\n",
       "26                            X19  0.002239"
      ]
     },
     "execution_count": 193,
     "metadata": {},
     "output_type": "execute_result"
    }
   ],
   "source": [
    "df"
   ]
  },
  {
   "cell_type": "code",
   "execution_count": 44,
   "metadata": {
    "collapsed": false
   },
   "outputs": [
    {
     "data": {
      "text/html": [
       "<div>\n",
       "<table border=\"1\" class=\"dataframe\">\n",
       "  <thead>\n",
       "    <tr style=\"text-align: right;\">\n",
       "      <th></th>\n",
       "      <th>Importance</th>\n",
       "    </tr>\n",
       "  </thead>\n",
       "  <tbody>\n",
       "    <tr>\n",
       "      <th>Job_Title_DescriptionWSRatio</th>\n",
       "      <td>0.072164</td>\n",
       "    </tr>\n",
       "    <tr>\n",
       "      <th>Job_Title_DescriptionSymCount</th>\n",
       "      <td>0.053901</td>\n",
       "    </tr>\n",
       "    <tr>\n",
       "      <th>Position_ExtraWSRatio</th>\n",
       "      <td>0.047599</td>\n",
       "    </tr>\n",
       "    <tr>\n",
       "      <th>Job_Title_DescriptionWCount</th>\n",
       "      <td>0.042202</td>\n",
       "    </tr>\n",
       "    <tr>\n",
       "      <th>Function_DescriptionWSRatio</th>\n",
       "      <td>0.038622</td>\n",
       "    </tr>\n",
       "    <tr>\n",
       "      <th>Position_ExtraSymCount</th>\n",
       "      <td>0.036254</td>\n",
       "    </tr>\n",
       "    <tr>\n",
       "      <th>Object_DescriptionWSRatio</th>\n",
       "      <td>0.035929</td>\n",
       "    </tr>\n",
       "    <tr>\n",
       "      <th>Location_DescriptionWSRatio</th>\n",
       "      <td>0.034856</td>\n",
       "    </tr>\n",
       "    <tr>\n",
       "      <th>Object_DescriptionSymCount</th>\n",
       "      <td>0.034322</td>\n",
       "    </tr>\n",
       "    <tr>\n",
       "      <th>Program_DescriptionWSRatio</th>\n",
       "      <td>0.033289</td>\n",
       "    </tr>\n",
       "    <tr>\n",
       "      <th>Location_DescriptionSymCount</th>\n",
       "      <td>0.032658</td>\n",
       "    </tr>\n",
       "    <tr>\n",
       "      <th>Text_1WSRatio</th>\n",
       "      <td>0.031344</td>\n",
       "    </tr>\n",
       "    <tr>\n",
       "      <th>Object_DescriptionWCount</th>\n",
       "      <td>0.030792</td>\n",
       "    </tr>\n",
       "    <tr>\n",
       "      <th>Program_DescriptionSymCount</th>\n",
       "      <td>0.029463</td>\n",
       "    </tr>\n",
       "    <tr>\n",
       "      <th>Text_1SymCount</th>\n",
       "      <td>0.026795</td>\n",
       "    </tr>\n",
       "    <tr>\n",
       "      <th>Function_DescriptionWCount</th>\n",
       "      <td>0.026504</td>\n",
       "    </tr>\n",
       "    <tr>\n",
       "      <th>Function_DescriptionSymCount</th>\n",
       "      <td>0.025746</td>\n",
       "    </tr>\n",
       "    <tr>\n",
       "      <th>SubFund_DescriptionSymCount</th>\n",
       "      <td>0.021231</td>\n",
       "    </tr>\n",
       "    <tr>\n",
       "      <th>Program_DescriptionWCount</th>\n",
       "      <td>0.020652</td>\n",
       "    </tr>\n",
       "    <tr>\n",
       "      <th>NanCount</th>\n",
       "      <td>0.019978</td>\n",
       "    </tr>\n",
       "  </tbody>\n",
       "</table>\n",
       "</div>"
      ],
      "text/plain": [
       "                               Importance\n",
       "Job_Title_DescriptionWSRatio     0.072164\n",
       "Job_Title_DescriptionSymCount    0.053901\n",
       "Position_ExtraWSRatio            0.047599\n",
       "Job_Title_DescriptionWCount      0.042202\n",
       "Function_DescriptionWSRatio      0.038622\n",
       "Position_ExtraSymCount           0.036254\n",
       "Object_DescriptionWSRatio        0.035929\n",
       "Location_DescriptionWSRatio      0.034856\n",
       "Object_DescriptionSymCount       0.034322\n",
       "Program_DescriptionWSRatio       0.033289\n",
       "Location_DescriptionSymCount     0.032658\n",
       "Text_1WSRatio                    0.031344\n",
       "Object_DescriptionWCount         0.030792\n",
       "Program_DescriptionSymCount      0.029463\n",
       "Text_1SymCount                   0.026795\n",
       "Function_DescriptionWCount       0.026504\n",
       "Function_DescriptionSymCount     0.025746\n",
       "SubFund_DescriptionSymCount      0.021231\n",
       "Program_DescriptionWCount        0.020652\n",
       "NanCount                         0.019978"
      ]
     },
     "execution_count": 44,
     "metadata": {},
     "output_type": "execute_result"
    }
   ],
   "source": [
    "df.head(20)"
   ]
  },
  {
   "cell_type": "markdown",
   "metadata": {},
   "source": [
    "# RUN VALIDATION"
   ]
  },
  {
   "cell_type": "code",
   "execution_count": 49,
   "metadata": {
    "collapsed": false
   },
   "outputs": [],
   "source": [
    "def my_rmse(yt, yp):    \n",
    "    return sqrt(mean_squared_error(yt, yp))\n",
    "\n",
    "def fold_score(CVXtrain, CVXtest, CVytrain, CVytest, col_set, model):\n",
    "    yallpred = np.array([]).reshape(len(CVXtest), 0)\n",
    "    yalltest = np.array([]).reshape(len(CVXtest), 0)\n",
    "    for colpred in col_set:\n",
    "        #print colpred\n",
    "        model.fit(CVXtrain, CVytrain[colpred])    \n",
    "        ypred = model.predict_proba(CVXtest)\n",
    "        yallpred = np.hstack((yallpred, ypred))\n",
    "        yalltest = np.hstack((yalltest, pd.get_dummies(CVytest[colpred]))) \n",
    "    print my_rmse(yalltest, yallpred)        \n",
    "    return my_rmse(yalltest, yallpred), yallpred\n",
    "\n",
    "def fold_score_csr(CVXtrain, CVXtest, CVytrain, CVytest, col_set, model):\n",
    "    yallpred = np.array([]).reshape(shape(CVXtest)[0], 0)\n",
    "    yalltest = np.array([]).reshape(shape(CVXtest)[0], 0)\n",
    "    for colpred in col_set:\n",
    "        model.fit(CVXtrain, np.array(CVytrain[colpred]))\n",
    "        ypred = model.predict_proba(CVXtest)\n",
    "        yallpred = np.hstack((yallpred, ypred))\n",
    "        yalltest = np.hstack((yalltest, pd.get_dummies(CVytest[colpred])))  \n",
    "    print my_rmse(yalltest, yallpred) \n",
    "    return my_rmse(yalltest, yallpred), yallpred\n",
    "   \n",
    "def get_kfold_scores(X, y, clf, random_state):\n",
    "    score_total = 0.0\n",
    "    for giba in range(CFOLDS):\n",
    "        #print giba\n",
    "        indtrain1 = gibaindtrain1[giba]\n",
    "        indtrain2 = gibaindtrain2[giba]\n",
    "        \n",
    "        X_train = pd.DataFrame(X).loc[indtrain1]\n",
    "        y_train = y.loc[indtrain1]\n",
    "        X_test = pd.DataFrame(X).loc[indtrain2]\n",
    "        y_test = y.loc[indtrain2]\n",
    "        \n",
    "        #curres, ypred = stasknn(indtrain1, indtrain2)\n",
    "        \n",
    "        score, foldpred =fold_score(X_train, X_test, y_train, y_test, col_set, clf)\n",
    "\n",
    "        arres.append(score)\n",
    "        #arrlos.append(losses)    \n",
    "        allypred[indtrain2, :] = foldpred\n",
    "        \n",
    "        score_total += score\n",
    "        \n",
    "    print np.mean(arres, axis = 0)\n",
    "    average_score = score_total/float(CFOLDS)\n",
    "    print str(average_score)\n",
    "\n",
    "def get_kfold_scores_csr(X, y, clf, random_state):\n",
    "    score_total = 0.0\n",
    "    for giba in range(CFOLDS):\n",
    "        indtrain1 = gibaindtrain1[giba]\n",
    "        indtrain2 = gibaindtrain2[giba]\n",
    "        \n",
    "        X_train = X[indtrain1]\n",
    "        y_train = y.loc[indtrain1]\n",
    "    \tX_test = X[indtrain2]\n",
    "    \ty_test = y.loc[indtrain2]\n",
    "        \n",
    "        score, foldpred =fold_score_csr(X_train, X_test, y_train, y_test, col_set, clf)\n",
    "\n",
    "        arres.append(score)\n",
    "        #arrlos.append(losses)    \n",
    "        allypred[indtrain2, :] = foldpred\n",
    "        \n",
    "        score_total += score\n",
    "        \n",
    "    print np.mean(arres, axis = 0)\n",
    "    average_score = score_total/float(CFOLDS)\n",
    "    print average_score"
   ]
  },
  {
   "cell_type": "markdown",
   "metadata": {},
   "source": [
    "# SVM proba"
   ]
  },
  {
   "cell_type": "code",
   "execution_count": 71,
   "metadata": {
    "collapsed": false
   },
   "outputs": [
    {
     "name": "stdout",
     "output_type": "stream",
     "text": [
      "0.0723647226487\n",
      "0.0727915716928\n",
      "0.0713942836447\n",
      "0.0714060886057\n",
      "0.0709638209555\n",
      "0.0717840975095\n",
      "0.0717840975095\n"
     ]
    }
   ],
   "source": [
    "from sklearn.linear_model import SGDClassifier\n",
    "col_set=dall.columns[:9]\n",
    "rs=10\n",
    "arres = []\n",
    "arrlos = []\n",
    "allypred = np.zeros((len(dtrain), 104))\n",
    "clf = SGDClassifier(loss = 'log', n_jobs=15)\n",
    "get_kfold_scores_csr(Xall[:len(dtrain)], dall[col_set][:len(dtrain)], clf, random_state  = rs)"
   ]
  },
  {
   "cell_type": "markdown",
   "metadata": {},
   "source": [
    "## create train-test CSR"
   ]
  },
  {
   "cell_type": "code",
   "execution_count": 72,
   "metadata": {
    "collapsed": false
   },
   "outputs": [],
   "source": [
    "m1train=np.copy(allypred)\n",
    "np.shape(allypred)"
   ]
  },
  {
   "cell_type": "code",
   "execution_count": 73,
   "metadata": {
    "collapsed": false
   },
   "outputs": [
    {
     "data": {
      "text/plain": [
       "(300000, 104)"
      ]
     },
     "execution_count": 73,
     "metadata": {},
     "output_type": "execute_result"
    }
   ],
   "source": [
    "yallpred = np.array([]).reshape(len(dtest), 0)\n",
    "\n",
    "for colpred in dall.columns[:9]:\n",
    "    Xtrain = Xall[:len(dtrain)]\n",
    "    Xtest = Xall[len(dtrain):]\n",
    "    \n",
    "    ytrain = np.array(dall[colpred])[:len(dtrain)]\n",
    "    \n",
    "    model = SGDClassifier(loss = 'log', n_jobs=15)\n",
    "    model.fit(Xtrain, ytrain)\n",
    "    \n",
    "    ypred = model.predict_proba(Xtest)\n",
    "    \n",
    "    yallpred = np.hstack((yallpred, ypred))\n",
    "    \n",
    "m1test=np.copy(yallpred)\n",
    "np.shape(m1test)"
   ]
  },
  {
   "cell_type": "code",
   "execution_count": 74,
   "metadata": {
    "collapsed": false
   },
   "outputs": [
    {
     "data": {
      "text/plain": [
       "(100000, 104)"
      ]
     },
     "execution_count": 74,
     "metadata": {},
     "output_type": "execute_result"
    }
   ],
   "source": [
    "m1test=np.copy(yallpred)\n",
    "np.shape(m1test)"
   ]
  },
  {
   "cell_type": "markdown",
   "metadata": {},
   "source": [
    "# RF  By all columns (or by subset)"
   ]
  },
  {
   "cell_type": "code",
   "execution_count": null,
   "metadata": {
    "collapsed": true
   },
   "outputs": [],
   "source": []
  },
  {
   "cell_type": "code",
   "execution_count": 126,
   "metadata": {
    "collapsed": false
   },
   "outputs": [
    {
     "name": "stdout",
     "output_type": "stream",
     "text": [
      "0.04538322218\n",
      "0.045643706343\n",
      "0.0456892573063\n",
      "0.0453490939819\n",
      "0.0453475649932\n",
      "0.0454825689609\n",
      "0.0454825689609\n",
      "CPU times: user 9min 58s, sys: 14.1 s, total: 10min 12s\n",
      "Wall time: 48.6 s\n"
     ]
    }
   ],
   "source": [
    "%%time\n",
    "from sklearn.ensemble import ExtraTreesClassifier, AdaBoostClassifier\n",
    "from sklearn.neighbors import KNeighborsClassifier\n",
    "from sklearn.linear_model import SGDClassifier\n",
    "col_set=dall.columns[:1]\n",
    "rs=10\n",
    "#folds=3\n",
    "est_count=50\n",
    "arres = []\n",
    "arrlos = []\n",
    "allypred = np.zeros((len(dtrain), 37))\n",
    "clf = RandomForestClassifier(n_estimators = est_count, n_jobs = 15, random_state=rs) #0.098330060692\n",
    "get_kfold_scores(Xall[:len(dtrain)], dall[col_set][:len(dtrain)], clf, random_state  = rs)"
   ]
  },
  {
   "cell_type": "code",
   "execution_count": 114,
   "metadata": {
    "collapsed": false
   },
   "outputs": [
    {
     "data": {
      "text/plain": [
       "(300000, 104)"
      ]
     },
     "execution_count": 114,
     "metadata": {},
     "output_type": "execute_result"
    }
   ],
   "source": [
    "m3train = np.copy(allypred)\n",
    "np.shape(m3train)"
   ]
  },
  {
   "cell_type": "code",
   "execution_count": 50,
   "metadata": {
    "collapsed": false
   },
   "outputs": [
    {
     "ename": "KeyboardInterrupt",
     "evalue": "",
     "output_type": "error",
     "traceback": [
      "\u001b[1;31m---------------------------------------------------------------------------\u001b[0m",
      "\u001b[1;31mKeyboardInterrupt\u001b[0m                         Traceback (most recent call last)",
      "\u001b[1;32m<ipython-input-50-ce814cf6d7bf>\u001b[0m in \u001b[0;36m<module>\u001b[1;34m()\u001b[0m\n\u001b[0;32m      7\u001b[0m                              n_estimators = 3)            \n\u001b[0;32m      8\u001b[0m             \u001b[1;31m#model = ExtraTreesClassifier(n_estimators = est_count, n_jobs = -1, random_state=rs)\u001b[0m\u001b[1;33m\u001b[0m\u001b[1;33m\u001b[0m\u001b[0m\n\u001b[1;32m----> 9\u001b[1;33m     \u001b[0mmodel\u001b[0m\u001b[1;33m.\u001b[0m\u001b[0mfit\u001b[0m\u001b[1;33m(\u001b[0m\u001b[0mXtrain\u001b[0m\u001b[1;33m,\u001b[0m \u001b[0mytrain\u001b[0m\u001b[1;33m)\u001b[0m\u001b[1;33m\u001b[0m\u001b[0m\n\u001b[0m\u001b[0;32m     10\u001b[0m     \u001b[0mypred\u001b[0m \u001b[1;33m=\u001b[0m \u001b[0mmodel\u001b[0m\u001b[1;33m.\u001b[0m\u001b[0mpredict_proba\u001b[0m\u001b[1;33m(\u001b[0m\u001b[0mXtest\u001b[0m\u001b[1;33m)\u001b[0m\u001b[1;33m\u001b[0m\u001b[0m\n\u001b[0;32m     11\u001b[0m     \u001b[0myallpred\u001b[0m \u001b[1;33m=\u001b[0m \u001b[0mnp\u001b[0m\u001b[1;33m.\u001b[0m\u001b[0mhstack\u001b[0m\u001b[1;33m(\u001b[0m\u001b[1;33m(\u001b[0m\u001b[0myallpred\u001b[0m\u001b[1;33m,\u001b[0m \u001b[0mypred\u001b[0m\u001b[1;33m)\u001b[0m\u001b[1;33m)\u001b[0m\u001b[1;33m\u001b[0m\u001b[0m\n",
      "\u001b[1;32m/home/atselikov/anaconda2/lib/python2.7/site-packages/sklearn/ensemble/weight_boosting.pyc\u001b[0m in \u001b[0;36mfit\u001b[1;34m(self, X, y, sample_weight)\u001b[0m\n\u001b[0;32m    403\u001b[0m \u001b[1;33m\u001b[0m\u001b[0m\n\u001b[0;32m    404\u001b[0m         \u001b[1;31m# Fit\u001b[0m\u001b[1;33m\u001b[0m\u001b[1;33m\u001b[0m\u001b[0m\n\u001b[1;32m--> 405\u001b[1;33m         \u001b[1;32mreturn\u001b[0m \u001b[0msuper\u001b[0m\u001b[1;33m(\u001b[0m\u001b[0mAdaBoostClassifier\u001b[0m\u001b[1;33m,\u001b[0m \u001b[0mself\u001b[0m\u001b[1;33m)\u001b[0m\u001b[1;33m.\u001b[0m\u001b[0mfit\u001b[0m\u001b[1;33m(\u001b[0m\u001b[0mX\u001b[0m\u001b[1;33m,\u001b[0m \u001b[0my\u001b[0m\u001b[1;33m,\u001b[0m \u001b[0msample_weight\u001b[0m\u001b[1;33m)\u001b[0m\u001b[1;33m\u001b[0m\u001b[0m\n\u001b[0m\u001b[0;32m    406\u001b[0m \u001b[1;33m\u001b[0m\u001b[0m\n\u001b[0;32m    407\u001b[0m     \u001b[1;32mdef\u001b[0m \u001b[0m_validate_estimator\u001b[0m\u001b[1;33m(\u001b[0m\u001b[0mself\u001b[0m\u001b[1;33m)\u001b[0m\u001b[1;33m:\u001b[0m\u001b[1;33m\u001b[0m\u001b[0m\n",
      "\u001b[1;32m/home/atselikov/anaconda2/lib/python2.7/site-packages/sklearn/ensemble/weight_boosting.pyc\u001b[0m in \u001b[0;36mfit\u001b[1;34m(self, X, y, sample_weight)\u001b[0m\n\u001b[0;32m    138\u001b[0m                 \u001b[0miboost\u001b[0m\u001b[1;33m,\u001b[0m\u001b[1;33m\u001b[0m\u001b[0m\n\u001b[0;32m    139\u001b[0m                 \u001b[0mX\u001b[0m\u001b[1;33m,\u001b[0m \u001b[0my\u001b[0m\u001b[1;33m,\u001b[0m\u001b[1;33m\u001b[0m\u001b[0m\n\u001b[1;32m--> 140\u001b[1;33m                 sample_weight)\n\u001b[0m\u001b[0;32m    141\u001b[0m \u001b[1;33m\u001b[0m\u001b[0m\n\u001b[0;32m    142\u001b[0m             \u001b[1;31m# Early termination\u001b[0m\u001b[1;33m\u001b[0m\u001b[1;33m\u001b[0m\u001b[0m\n",
      "\u001b[1;32m/home/atselikov/anaconda2/lib/python2.7/site-packages/sklearn/ensemble/weight_boosting.pyc\u001b[0m in \u001b[0;36m_boost\u001b[1;34m(self, iboost, X, y, sample_weight)\u001b[0m\n\u001b[0;32m    460\u001b[0m         \"\"\"\n\u001b[0;32m    461\u001b[0m         \u001b[1;32mif\u001b[0m \u001b[0mself\u001b[0m\u001b[1;33m.\u001b[0m\u001b[0malgorithm\u001b[0m \u001b[1;33m==\u001b[0m \u001b[1;34m'SAMME.R'\u001b[0m\u001b[1;33m:\u001b[0m\u001b[1;33m\u001b[0m\u001b[0m\n\u001b[1;32m--> 462\u001b[1;33m             \u001b[1;32mreturn\u001b[0m \u001b[0mself\u001b[0m\u001b[1;33m.\u001b[0m\u001b[0m_boost_real\u001b[0m\u001b[1;33m(\u001b[0m\u001b[0miboost\u001b[0m\u001b[1;33m,\u001b[0m \u001b[0mX\u001b[0m\u001b[1;33m,\u001b[0m \u001b[0my\u001b[0m\u001b[1;33m,\u001b[0m \u001b[0msample_weight\u001b[0m\u001b[1;33m)\u001b[0m\u001b[1;33m\u001b[0m\u001b[0m\n\u001b[0m\u001b[0;32m    463\u001b[0m \u001b[1;33m\u001b[0m\u001b[0m\n\u001b[0;32m    464\u001b[0m         \u001b[1;32melse\u001b[0m\u001b[1;33m:\u001b[0m  \u001b[1;31m# elif self.algorithm == \"SAMME\":\u001b[0m\u001b[1;33m\u001b[0m\u001b[0m\n",
      "\u001b[1;32m/home/atselikov/anaconda2/lib/python2.7/site-packages/sklearn/ensemble/weight_boosting.pyc\u001b[0m in \u001b[0;36m_boost_real\u001b[1;34m(self, iboost, X, y, sample_weight)\u001b[0m\n\u001b[0;32m    474\u001b[0m             \u001b[1;32mpass\u001b[0m\u001b[1;33m\u001b[0m\u001b[0m\n\u001b[0;32m    475\u001b[0m \u001b[1;33m\u001b[0m\u001b[0m\n\u001b[1;32m--> 476\u001b[1;33m         \u001b[0mestimator\u001b[0m\u001b[1;33m.\u001b[0m\u001b[0mfit\u001b[0m\u001b[1;33m(\u001b[0m\u001b[0mX\u001b[0m\u001b[1;33m,\u001b[0m \u001b[0my\u001b[0m\u001b[1;33m,\u001b[0m \u001b[0msample_weight\u001b[0m\u001b[1;33m=\u001b[0m\u001b[0msample_weight\u001b[0m\u001b[1;33m)\u001b[0m\u001b[1;33m\u001b[0m\u001b[0m\n\u001b[0m\u001b[0;32m    477\u001b[0m \u001b[1;33m\u001b[0m\u001b[0m\n\u001b[0;32m    478\u001b[0m         \u001b[0my_predict_proba\u001b[0m \u001b[1;33m=\u001b[0m \u001b[0mestimator\u001b[0m\u001b[1;33m.\u001b[0m\u001b[0mpredict_proba\u001b[0m\u001b[1;33m(\u001b[0m\u001b[0mX\u001b[0m\u001b[1;33m)\u001b[0m\u001b[1;33m\u001b[0m\u001b[0m\n",
      "\u001b[1;32m/home/atselikov/anaconda2/lib/python2.7/site-packages/sklearn/ensemble/forest.pyc\u001b[0m in \u001b[0;36mfit\u001b[1;34m(self, X, y, sample_weight)\u001b[0m\n\u001b[0;32m    288\u001b[0m                     \u001b[0mt\u001b[0m\u001b[1;33m,\u001b[0m \u001b[0mself\u001b[0m\u001b[1;33m,\u001b[0m \u001b[0mX\u001b[0m\u001b[1;33m,\u001b[0m \u001b[0my\u001b[0m\u001b[1;33m,\u001b[0m \u001b[0msample_weight\u001b[0m\u001b[1;33m,\u001b[0m \u001b[0mi\u001b[0m\u001b[1;33m,\u001b[0m \u001b[0mlen\u001b[0m\u001b[1;33m(\u001b[0m\u001b[0mtrees\u001b[0m\u001b[1;33m)\u001b[0m\u001b[1;33m,\u001b[0m\u001b[1;33m\u001b[0m\u001b[0m\n\u001b[0;32m    289\u001b[0m                     verbose=self.verbose, class_weight=self.class_weight)\n\u001b[1;32m--> 290\u001b[1;33m                 for i, t in enumerate(trees))\n\u001b[0m\u001b[0;32m    291\u001b[0m \u001b[1;33m\u001b[0m\u001b[0m\n\u001b[0;32m    292\u001b[0m             \u001b[1;31m# Collect newly grown trees\u001b[0m\u001b[1;33m\u001b[0m\u001b[1;33m\u001b[0m\u001b[0m\n",
      "\u001b[1;32m/home/atselikov/anaconda2/lib/python2.7/site-packages/sklearn/externals/joblib/parallel.pyc\u001b[0m in \u001b[0;36m__call__\u001b[1;34m(self, iterable)\u001b[0m\n\u001b[0;32m    810\u001b[0m                 \u001b[1;31m# consumption.\u001b[0m\u001b[1;33m\u001b[0m\u001b[1;33m\u001b[0m\u001b[0m\n\u001b[0;32m    811\u001b[0m                 \u001b[0mself\u001b[0m\u001b[1;33m.\u001b[0m\u001b[0m_iterating\u001b[0m \u001b[1;33m=\u001b[0m \u001b[0mFalse\u001b[0m\u001b[1;33m\u001b[0m\u001b[0m\n\u001b[1;32m--> 812\u001b[1;33m             \u001b[0mself\u001b[0m\u001b[1;33m.\u001b[0m\u001b[0mretrieve\u001b[0m\u001b[1;33m(\u001b[0m\u001b[1;33m)\u001b[0m\u001b[1;33m\u001b[0m\u001b[0m\n\u001b[0m\u001b[0;32m    813\u001b[0m             \u001b[1;31m# Make sure that we get a last message telling us we are done\u001b[0m\u001b[1;33m\u001b[0m\u001b[1;33m\u001b[0m\u001b[0m\n\u001b[0;32m    814\u001b[0m             \u001b[0melapsed_time\u001b[0m \u001b[1;33m=\u001b[0m \u001b[0mtime\u001b[0m\u001b[1;33m.\u001b[0m\u001b[0mtime\u001b[0m\u001b[1;33m(\u001b[0m\u001b[1;33m)\u001b[0m \u001b[1;33m-\u001b[0m \u001b[0mself\u001b[0m\u001b[1;33m.\u001b[0m\u001b[0m_start_time\u001b[0m\u001b[1;33m\u001b[0m\u001b[0m\n",
      "\u001b[1;32m/home/atselikov/anaconda2/lib/python2.7/site-packages/sklearn/externals/joblib/parallel.pyc\u001b[0m in \u001b[0;36mretrieve\u001b[1;34m(self)\u001b[0m\n\u001b[0;32m    729\u001b[0m                 \u001b[0mjob\u001b[0m \u001b[1;33m=\u001b[0m \u001b[0mself\u001b[0m\u001b[1;33m.\u001b[0m\u001b[0m_jobs\u001b[0m\u001b[1;33m.\u001b[0m\u001b[0mpop\u001b[0m\u001b[1;33m(\u001b[0m\u001b[1;36m0\u001b[0m\u001b[1;33m)\u001b[0m\u001b[1;33m\u001b[0m\u001b[0m\n\u001b[0;32m    730\u001b[0m             \u001b[1;32mtry\u001b[0m\u001b[1;33m:\u001b[0m\u001b[1;33m\u001b[0m\u001b[0m\n\u001b[1;32m--> 731\u001b[1;33m                 \u001b[0mself\u001b[0m\u001b[1;33m.\u001b[0m\u001b[0m_output\u001b[0m\u001b[1;33m.\u001b[0m\u001b[0mextend\u001b[0m\u001b[1;33m(\u001b[0m\u001b[0mjob\u001b[0m\u001b[1;33m.\u001b[0m\u001b[0mget\u001b[0m\u001b[1;33m(\u001b[0m\u001b[1;33m)\u001b[0m\u001b[1;33m)\u001b[0m\u001b[1;33m\u001b[0m\u001b[0m\n\u001b[0m\u001b[0;32m    732\u001b[0m             \u001b[1;32mexcept\u001b[0m \u001b[0mtuple\u001b[0m\u001b[1;33m(\u001b[0m\u001b[0mself\u001b[0m\u001b[1;33m.\u001b[0m\u001b[0mexceptions\u001b[0m\u001b[1;33m)\u001b[0m \u001b[1;32mas\u001b[0m \u001b[0mexception\u001b[0m\u001b[1;33m:\u001b[0m\u001b[1;33m\u001b[0m\u001b[0m\n\u001b[0;32m    733\u001b[0m                 \u001b[1;31m# Stop dispatching any new job in the async callback thread\u001b[0m\u001b[1;33m\u001b[0m\u001b[1;33m\u001b[0m\u001b[0m\n",
      "\u001b[1;32m/home/atselikov/anaconda2/lib/python2.7/multiprocessing/pool.pyc\u001b[0m in \u001b[0;36mget\u001b[1;34m(self, timeout)\u001b[0m\n\u001b[0;32m    559\u001b[0m \u001b[1;33m\u001b[0m\u001b[0m\n\u001b[0;32m    560\u001b[0m     \u001b[1;32mdef\u001b[0m \u001b[0mget\u001b[0m\u001b[1;33m(\u001b[0m\u001b[0mself\u001b[0m\u001b[1;33m,\u001b[0m \u001b[0mtimeout\u001b[0m\u001b[1;33m=\u001b[0m\u001b[0mNone\u001b[0m\u001b[1;33m)\u001b[0m\u001b[1;33m:\u001b[0m\u001b[1;33m\u001b[0m\u001b[0m\n\u001b[1;32m--> 561\u001b[1;33m         \u001b[0mself\u001b[0m\u001b[1;33m.\u001b[0m\u001b[0mwait\u001b[0m\u001b[1;33m(\u001b[0m\u001b[0mtimeout\u001b[0m\u001b[1;33m)\u001b[0m\u001b[1;33m\u001b[0m\u001b[0m\n\u001b[0m\u001b[0;32m    562\u001b[0m         \u001b[1;32mif\u001b[0m \u001b[1;32mnot\u001b[0m \u001b[0mself\u001b[0m\u001b[1;33m.\u001b[0m\u001b[0m_ready\u001b[0m\u001b[1;33m:\u001b[0m\u001b[1;33m\u001b[0m\u001b[0m\n\u001b[0;32m    563\u001b[0m             \u001b[1;32mraise\u001b[0m \u001b[0mTimeoutError\u001b[0m\u001b[1;33m\u001b[0m\u001b[0m\n",
      "\u001b[1;32m/home/atselikov/anaconda2/lib/python2.7/multiprocessing/pool.pyc\u001b[0m in \u001b[0;36mwait\u001b[1;34m(self, timeout)\u001b[0m\n\u001b[0;32m    554\u001b[0m         \u001b[1;32mtry\u001b[0m\u001b[1;33m:\u001b[0m\u001b[1;33m\u001b[0m\u001b[0m\n\u001b[0;32m    555\u001b[0m             \u001b[1;32mif\u001b[0m \u001b[1;32mnot\u001b[0m \u001b[0mself\u001b[0m\u001b[1;33m.\u001b[0m\u001b[0m_ready\u001b[0m\u001b[1;33m:\u001b[0m\u001b[1;33m\u001b[0m\u001b[0m\n\u001b[1;32m--> 556\u001b[1;33m                 \u001b[0mself\u001b[0m\u001b[1;33m.\u001b[0m\u001b[0m_cond\u001b[0m\u001b[1;33m.\u001b[0m\u001b[0mwait\u001b[0m\u001b[1;33m(\u001b[0m\u001b[0mtimeout\u001b[0m\u001b[1;33m)\u001b[0m\u001b[1;33m\u001b[0m\u001b[0m\n\u001b[0m\u001b[0;32m    557\u001b[0m         \u001b[1;32mfinally\u001b[0m\u001b[1;33m:\u001b[0m\u001b[1;33m\u001b[0m\u001b[0m\n\u001b[0;32m    558\u001b[0m             \u001b[0mself\u001b[0m\u001b[1;33m.\u001b[0m\u001b[0m_cond\u001b[0m\u001b[1;33m.\u001b[0m\u001b[0mrelease\u001b[0m\u001b[1;33m(\u001b[0m\u001b[1;33m)\u001b[0m\u001b[1;33m\u001b[0m\u001b[0m\n",
      "\u001b[1;32m/home/atselikov/anaconda2/lib/python2.7/threading.pyc\u001b[0m in \u001b[0;36mwait\u001b[1;34m(self, timeout)\u001b[0m\n\u001b[0;32m    338\u001b[0m         \u001b[1;32mtry\u001b[0m\u001b[1;33m:\u001b[0m    \u001b[1;31m# restore state no matter what (e.g., KeyboardInterrupt)\u001b[0m\u001b[1;33m\u001b[0m\u001b[0m\n\u001b[0;32m    339\u001b[0m             \u001b[1;32mif\u001b[0m \u001b[0mtimeout\u001b[0m \u001b[1;32mis\u001b[0m \u001b[0mNone\u001b[0m\u001b[1;33m:\u001b[0m\u001b[1;33m\u001b[0m\u001b[0m\n\u001b[1;32m--> 340\u001b[1;33m                 \u001b[0mwaiter\u001b[0m\u001b[1;33m.\u001b[0m\u001b[0macquire\u001b[0m\u001b[1;33m(\u001b[0m\u001b[1;33m)\u001b[0m\u001b[1;33m\u001b[0m\u001b[0m\n\u001b[0m\u001b[0;32m    341\u001b[0m                 \u001b[1;32mif\u001b[0m \u001b[0m__debug__\u001b[0m\u001b[1;33m:\u001b[0m\u001b[1;33m\u001b[0m\u001b[0m\n\u001b[0;32m    342\u001b[0m                     \u001b[0mself\u001b[0m\u001b[1;33m.\u001b[0m\u001b[0m_note\u001b[0m\u001b[1;33m(\u001b[0m\u001b[1;34m\"%s.wait(): got it\"\u001b[0m\u001b[1;33m,\u001b[0m \u001b[0mself\u001b[0m\u001b[1;33m)\u001b[0m\u001b[1;33m\u001b[0m\u001b[0m\n",
      "\u001b[1;31mKeyboardInterrupt\u001b[0m: "
     ]
    }
   ],
   "source": [
    "yallpred = np.array([]).reshape(len(dtest), 0)\n",
    "for colpred in dall.columns[:9]:\n",
    "    Xtrain = Xall[:len(dtrain)]\n",
    "    Xtest = Xall[len(dtrain):]\n",
    "    ytrain = np.array(dall[colpred])[:len(dtrain)]\n",
    "    model = AdaBoostClassifier(base_estimator = ExtraTreesClassifier(n_estimators = est_count, criterion = 'entropy', n_jobs = -1),\n",
    "                             n_estimators = 3)            \n",
    "            #model = ExtraTreesClassifier(n_estimators = est_count, n_jobs = -1, random_state=rs)\n",
    "    model.fit(Xtrain, ytrain)\n",
    "    ypred = model.predict_proba(Xtest)\n",
    "    yallpred = np.hstack((yallpred, ypred))\n",
    "    print colpred"
   ]
  },
  {
   "cell_type": "code",
   "execution_count": 19,
   "metadata": {
    "collapsed": true
   },
   "outputs": [],
   "source": [
    "def rf_predict(est_count):\n",
    "    t0 = time.time()\n",
    "    yallpred = np.array([]).reshape(len(dtest), 0)\n",
    "    #yfinalet = np.array([]).reshape(len(dtest), 0)\n",
    "    for colpred in dall.columns[:9]:\n",
    "            Xtrain = Xall[:len(dtrain)]\n",
    "            Xtest = Xall[len(dtrain):]\n",
    "            ytrain = np.array(dall[colpred])[:len(dtrain)]\n",
    "            #model = RandomForestClassifier(n_estimators = est_count, n_jobs = -1, random_state=rs)\n",
    "            model = RandomForestClassifier(n_estimators = est_count, n_jobs = -1, random_state=rs)\n",
    "            for bg in range(3):    \n",
    "                model = AdaBoostClassifier(base_estimator = ExtraTreesClassifier(n_estimators = est_count, criterion = 'entropy', n_jobs = -1),\n",
    "                             n_estimators = 3, random_state = bg + 1)            \n",
    "                model.fit(Xtrain, ytrain)\n",
    "                ypred = model.predict_proba(Xtest)\n",
    "                yfinalet += ypred\n",
    "                print bg, (time.time() - t0) / 60\n",
    "            yfinalet /= bgs                \n",
    "            yallpred = np.hstack((yallpred, yfinalet))\n",
    "            print colpred, (time.time() - t0) / 60. ##0.83 \n",
    "    return yallpred"
   ]
  },
  {
   "cell_type": "code",
   "execution_count": null,
   "metadata": {
    "collapsed": false
   },
   "outputs": [],
   "source": [
    "rs=10\n",
    "yallpred=rf_predict(200)"
   ]
  },
  {
   "cell_type": "code",
   "execution_count": 117,
   "metadata": {
    "collapsed": false
   },
   "outputs": [
    {
     "data": {
      "text/plain": [
       "(100000, 104)"
      ]
     },
     "execution_count": 117,
     "metadata": {},
     "output_type": "execute_result"
    }
   ],
   "source": [
    "m3test = np.copy(yallpred)\n",
    "np.shape(m3test)"
   ]
  },
  {
   "cell_type": "markdown",
   "metadata": {},
   "source": [
    "#    ========================== XGB ================="
   ]
  },
  {
   "cell_type": "code",
   "execution_count": 129,
   "metadata": {
    "collapsed": false
   },
   "outputs": [],
   "source": [
    "def fold_score_xgb(CVXtrain, CVXtest, CVytrain, CVytest, col_set):\n",
    "    yallpred = np.array([]).reshape(len(CVXtest), 0)\n",
    "    yalltest = np.array([]).reshape(len(CVXtest), 0)\n",
    "    col_names=[]\n",
    "    for i in range(len(CVXtrain.columns)):\n",
    "        col_names.append('X'+str(i))\n",
    "    CVXtrain.columns =col_names\n",
    "    CVXtest.columns =col_names\n",
    "    i=0\n",
    "    classes = [37,8,5,3,9,25,11,3,3]\n",
    "    for colpred in col_set:\n",
    "        print colpred\n",
    "        param['num_class'] = classes[i]\n",
    "        mod = xgb.train(param, xgb.DMatrix(data = CVXtrain, label = CVytrain[colpred]), num_round, watchlist)        \n",
    "        ypred = mod.predict(xgb.DMatrix(CVXtest))\n",
    "        yallpred = np.hstack((yallpred, ypred))\n",
    "        \n",
    "        yalltest = np.hstack((yalltest, pd.get_dummies(CVytest[colpred])))  \n",
    "        i +=1\n",
    "    print my_rmse(yalltest, yallpred)\n",
    "    return my_rmse(yalltest, yallpred), yallpred\n",
    "\n",
    "\t\n",
    "def get_kfold_scores_xgb(X, y, random_state):\n",
    "    score_total = 0.0\n",
    "    for giba in range(CFOLDS):\n",
    "        if giba>0:\n",
    "            print np.mean(arres, axis = 0)\n",
    "            return\n",
    "        indtrain1 = gibaindtrain1[giba]\n",
    "        indtrain2 = gibaindtrain2[giba]\n",
    "        X_train = pd.DataFrame(X).loc[indtrain1]\n",
    "        y_train = y.loc[indtrain1]\n",
    "        X_test = pd.DataFrame(X).loc[indtrain2]\n",
    "        y_test = y.loc[indtrain2]\n",
    "        score, foldpred =fold_score_xgb(X_train, X_test, y_train, y_test, col_set)\n",
    "        arres.append(score)\n",
    "        allypred[indtrain2, :] = foldpred\n",
    "        score_total += score\n",
    "    print np.mean(arres, axis = 0)\n",
    "    average_score = score_total/float(CFOLDS)\n",
    "    print str(average_score)\n"
   ]
  },
  {
   "cell_type": "markdown",
   "metadata": {},
   "source": [
    "# CV XGB BY Class1 fold1"
   ]
  },
  {
   "cell_type": "code",
   "execution_count": 203,
   "metadata": {
    "collapsed": false
   },
   "outputs": [
    {
     "name": "stdout",
     "output_type": "stream",
     "text": [
      "Function\n",
      "0.0366251021844\n",
      "0.0366251021844\n",
      "CPU times: user 3h 34min 58s, sys: 38.8 s, total: 3h 35min 37s\n",
      "Wall time: 19min 47s\n"
     ]
    }
   ],
   "source": [
    "%%time\n",
    "param = {}\n",
    "param['booster'] = 'gbtree'\n",
    "#param['booster'] = 'gblinear'\n",
    "param['objective'] = 'multi:softprob'\n",
    "param['eval_metric'] = 'rmse'\n",
    "#param['num_class'] = 37\n",
    "param['bst:eta'] = 0.13\n",
    "param['nthread'] = 15\n",
    "param['silent'] = 1\n",
    "param['bst:max_depth'] = 15\n",
    "param['bst:colsample_bytree'] = 0.85\n",
    "#param['gamma'] = 0.5\n",
    "\n",
    "num_round = 150\n",
    "watchlist = []\n",
    "\n",
    "col_set=dall.columns[:1]\n",
    "rs=10\n",
    "arres = []\n",
    "arrlos = []\n",
    "allypred = np.zeros((len(dtrain), 37))\n",
    "get_kfold_scores_xgb(Xall[:len(dtrain)], dall[col_set][:len(dtrain)], random_state  = rs)"
   ]
  },
  {
   "cell_type": "markdown",
   "metadata": {},
   "source": [
    "# CV XGB BY ALL CLASSES of FOLD1"
   ]
  },
  {
   "cell_type": "code",
   "execution_count": 157,
   "metadata": {
    "collapsed": false
   },
   "outputs": [
    {
     "name": "stdout",
     "output_type": "stream",
     "text": [
      "Function\n",
      "Use\n",
      "Sharing\n",
      "Reporting\n",
      "Student_Type\n",
      "Position_Type\n",
      "Object_Type\n",
      "Pre_K\n",
      "Operating_Status\n",
      "0.0452617627268\n",
      "0.0452617627268\n",
      "CPU times: user 3h 50min 59s, sys: 54 s, total: 3h 51min 53s\n",
      "Wall time: 22min 13s\n"
     ]
    }
   ],
   "source": [
    "%%time\n",
    "param = {}\n",
    "param['booster'] = 'gbtree'\n",
    "#param['booster'] = 'gblinear'\n",
    "param['objective'] = 'multi:softprob'\n",
    "param['eval_metric'] = 'rmse'\n",
    "#param['num_class'] = 37\n",
    "param['bst:eta'] = 0.4\n",
    "param['nthread'] = 15\n",
    "param['silent'] = 1\n",
    "param['bst:max_depth'] = 15\n",
    "param['bst:colsample_bytree'] = 0.85\n",
    "#param['gamma'] = 0.5\n",
    "\n",
    "num_round = 50\n",
    "watchlist = []\n",
    "\n",
    "col_set=dall.columns[:9]\n",
    "rs=10\n",
    "arres = []\n",
    "arrlos = []\n",
    "allypred = np.zeros((len(dtrain), 104))\n",
    "get_kfold_scores_xgb(Xall[:len(dtrain)], dall[col_set][:len(dtrain)], random_state  = rs)"
   ]
  },
  {
   "cell_type": "markdown",
   "metadata": {},
   "source": [
    "### xgb predict"
   ]
  },
  {
   "cell_type": "code",
   "execution_count": 205,
   "metadata": {
    "collapsed": false
   },
   "outputs": [
    {
     "name": "stdout",
     "output_type": "stream",
     "text": [
      "150\n",
      "{'bst:colsample_bytree': 0.85, 'num_class': 37, 'silent': 1, 'eval_metric': 'rmse', 'nthread': 15, 'bst:max_depth': 15, 'objective': 'multi:softprob', 'bst:eta': 0.13, 'booster': 'gbtree'}\n"
     ]
    }
   ],
   "source": [
    "print num_round\n",
    "print param"
   ]
  },
  {
   "cell_type": "code",
   "execution_count": 206,
   "metadata": {
    "collapsed": false
   },
   "outputs": [
    {
     "name": "stdout",
     "output_type": "stream",
     "text": [
      "Function 30.8445929488\n",
      "Use 38.6506843646\n",
      "Sharing 42.922522366\n",
      "Reporting 45.501677235\n",
      "Student_Type 51.6783275485\n",
      "Position_Type 66.4205199162\n",
      "Object_Type 74.0823821823\n",
      "Pre_K 76.5909155647\n",
      "Operating_Status 79.5430191318\n"
     ]
    }
   ],
   "source": [
    "t0 = time.time()\n",
    "yallpred = np.array([]).reshape(len(dtest), 0)\n",
    "i=0\n",
    "classes = [37,8,5,3,9,25,11,3,3]\n",
    "for colpred in dall.columns[:9]:\n",
    "    Xtrain = Xall[:len(dtrain),]\n",
    "    Xtest = Xall[len(dtrain):,]    \n",
    "    ytrain = np.array(dall[colpred])[:len(dtrain)]    \n",
    "    param['num_class'] = classes[i]\n",
    "    mod = xgb.train(param, xgb.DMatrix(data = Xtrain, label = ytrain), num_round, watchlist)        \n",
    "    ypred = mod.predict(xgb.DMatrix(Xtest))\n",
    "    yallpred = np.hstack((yallpred, ypred))\n",
    "    i +=1\n",
    "    print colpred, (time.time() - t0) / 60"
   ]
  },
  {
   "cell_type": "code",
   "execution_count": 207,
   "metadata": {
    "collapsed": false
   },
   "outputs": [
    {
     "data": {
      "text/plain": [
       "(100000, 104)"
      ]
     },
     "execution_count": 207,
     "metadata": {},
     "output_type": "execute_result"
    }
   ],
   "source": [
    "np.shape(yallpred)"
   ]
  },
  {
   "cell_type": "code",
   "execution_count": 208,
   "metadata": {
    "collapsed": false
   },
   "outputs": [
    {
     "name": "stdout",
     "output_type": "stream",
     "text": [
      "submitted!\n"
     ]
    }
   ],
   "source": [
    "file_name = 'xbgOth2FteTot3Num150'\n",
    "submit(yallpred, colnames, file_name)"
   ]
  },
  {
   "cell_type": "markdown",
   "metadata": {},
   "source": [
    "### By target columns by order"
   ]
  },
  {
   "cell_type": "code",
   "execution_count": 18,
   "metadata": {
    "collapsed": false
   },
   "outputs": [],
   "source": [
    "from sklearn.ensemble import BaggingClassifier\n",
    "from sklearn.calibration import CalibratedClassifierCV\n",
    "clf = RandomForestClassifier(n_estimators=200, n_jobs=-1, random_state=rs)\n",
    "#clfbag = BaggingClassifier(clf, n_estimators=50, random_state=rs)\n",
    "#calibrated_clf = CalibratedClassifierCV(clf, method='isotonic', cv=5)"
   ]
  },
  {
   "cell_type": "code",
   "execution_count": 77,
   "metadata": {
    "collapsed": false
   },
   "outputs": [],
   "source": [
    "last_imp #=['Text_4', 'Text_4', 'Text_4', 'Text_4', 'Facility_or_Department', 'Facility_or_Department', 'Facility_or_Department', 'Text_3', 'Text_4']\n",
    "#'Facility_or_Department','Facility_or_Department','Facility_or_Department','Facility_or_Department','Sub_Object_Description','Text_4','Text_4','Text_2','Facility_or_Department'\n",
    "last_impn =[5,5,5,5,9,9,9,4,5]\n",
    "last_impn2 =[9,9,9,9,6,5,5,1,9]\n",
    "last_impn3 =[4,6,0,10,4,6,1,13,4]\n",
    "\n",
    "all1=[0, 1, 2, 3, 4, 5, 6, 7, 8, 9, 10, 11, 12, 13]"
   ]
  },
  {
   "cell_type": "code",
   "execution_count": 60,
   "metadata": {
    "collapsed": false
   },
   "outputs": [],
   "source": [
    "#pd.DataFrame(Xall[:,all1])\n",
    "pd.DataFrame(Xall[:len(dtrain)])\n",
    "Xall1 = Xall[:len(dtrain)]\n",
    "#pd.DataFrame(Xall[:,all1])"
   ]
  },
  {
   "cell_type": "code",
   "execution_count": 52,
   "metadata": {
    "collapsed": false
   },
   "outputs": [
    {
     "name": "stdout",
     "output_type": "stream",
     "text": [
      "0\n",
      "1\n",
      "2\n",
      "3\n",
      "4\n",
      "0.0423149114687\n",
      "0.0423005564102\n",
      "0\n",
      "1\n",
      "2\n",
      "3\n",
      "4\n",
      "0.0565958557328\n",
      "0.0765891777025\n",
      "0\n",
      "1\n",
      "2\n",
      "3\n",
      "4\n",
      "0.0656449862881\n",
      "0.087362899621\n",
      "0\n",
      "1\n",
      "2\n",
      "3\n",
      "4\n",
      "0.073073412289\n",
      "0.098330060692\n",
      "0\n",
      "1\n",
      "2\n",
      "3\n",
      "4\n",
      "0.0708691439918\n",
      "0.0611703634842\n",
      "0\n",
      "1\n",
      "2\n",
      "3\n",
      "4\n",
      "0.0654671328144\n",
      "0.036296272456\n",
      "0\n",
      "1\n",
      "2\n",
      "3\n",
      "4\n",
      "0.0635095574068\n",
      "0.0509810747987\n",
      "0\n",
      "1\n",
      "2\n",
      "3\n",
      "4\n",
      "0.0648441931039\n",
      "0.0747204972619\n",
      "0\n",
      "1\n",
      "2\n",
      "3\n",
      "4\n",
      "0.0672530786873\n",
      "0.0874877175882\n",
      "CPU times: user 2h 19min 20s, sys: 2min 4s, total: 2h 21min 24s\n",
      "Wall time: 10min 50s\n"
     ]
    }
   ],
   "source": [
    "%%time\n",
    "rs=10\n",
    "#folds=3\n",
    "est_count=200\n",
    "tc_len=[37,8,5,3,9,25,11,3,3]\n",
    "Xall1 = Xall[:len(dtrain)]\n",
    "clf = RandomForestClassifier(n_estimators = est_count, n_jobs = 15, random_state=rs)\n",
    "for j in np.arange(1, 10, 1):\n",
    "    allypred = np.zeros((len(dtrain), tc_len[j-1]))\n",
    "    col_set=dall.columns[j-1:j]\n",
    "    all1=[0, 1, 2, 3, 4, 5, 6, 7, 8, 9, 10, 11, 12, 13]\n",
    "    #all1.remove(last_impn[j-1])\n",
    "    #all1.remove(last_impn2[j-1])\n",
    "    #all1.remove(last_impn3[j-1])\n",
    "    get_kfold_scores(Xall1[:,all1], dall[col_set][:len(dtrain)], clf, random_state  = rs)"
   ]
  },
  {
   "cell_type": "code",
   "execution_count": null,
   "metadata": {
    "collapsed": true
   },
   "outputs": [],
   "source": []
  },
  {
   "cell_type": "code",
   "execution_count": null,
   "metadata": {
    "collapsed": true
   },
   "outputs": [],
   "source": []
  },
  {
   "cell_type": "markdown",
   "metadata": {},
   "source": [
    "# CREATE SUBMISSION"
   ]
  },
  {
   "cell_type": "code",
   "execution_count": 58,
   "metadata": {
    "collapsed": false
   },
   "outputs": [],
   "source": [
    "def rf_predict_imp(rs, est_count):\n",
    "    t0 = time.time()\n",
    "    yallpred = np.array([]).reshape(len(dtest), 0)\n",
    "    \n",
    "    for colpred in dall.columns[:9]:\n",
    "            Xtrain = Xall[:len(dtrain)]\n",
    "            Xtest = Xall[len(dtrain):]\n",
    "            ytrain = np.array(dall[colpred])[:len(dtrain)]\n",
    "            model = RandomForestClassifier(n_estimators = est_count, n_jobs = -1, random_state=rs)\n",
    "            model.fit(Xtrain, ytrain)\n",
    "            feat_imp = pd.DataFrame(model.feature_importances_,\n",
    "             index=dall[other_columns].columns,\n",
    "             columns=['Importance']).sort(['Importance'], ascending=False)\n",
    "            feat_imp.to_csv(colpred+'.csv')\n",
    "            ypred = model.predict_proba(Xtest)\n",
    "            yallpred = np.hstack((yallpred, ypred))\n",
    "            print colpred, (time.time() - t0) / 60.\n",
    "    return yallpred"
   ]
  },
  {
   "cell_type": "code",
   "execution_count": 135,
   "metadata": {
    "collapsed": false
   },
   "outputs": [],
   "source": [
    "def submit(yallpred, colnames, file_name):\n",
    "    #format\n",
    "    dresult = pd.DataFrame()\n",
    "    dresult['id'] = np.arange(len(dtest))\n",
    "    colorder = argsort(colnames)\n",
    "    for i in range(104):\n",
    "        dresult[colnames[colorder[i]]] = yallpred[:, colorder[i]]\n",
    "    #write\n",
    "    dresult.to_csv(file_name+'.csv', index = False)\n",
    "    zf = zipfile.ZipFile(file_name+'.zip', mode='w')\n",
    "    zf.write(file_name+'.csv', compress_type=zipfile.ZIP_DEFLATED)\n",
    "    zf.close()\n",
    "    os.remove(file_name+'.csv')\n",
    "    print 'submitted!'"
   ]
  },
  {
   "cell_type": "code",
   "execution_count": 47,
   "metadata": {
    "collapsed": false
   },
   "outputs": [
    {
     "name": "stdout",
     "output_type": "stream",
     "text": [
      "Function 0.613785632451\n",
      "Use 0.955710566044\n",
      "Sharing 1.2887815992\n",
      "Reporting 1.60017421643\n",
      "Student_Type 1.95505320231\n",
      "Position_Type 2.35938735008\n",
      "Object_Type 2.66021096706\n",
      "Pre_K 2.96443511645\n",
      "Operating_Status 3.26638186773\n",
      "CPU times: user 42min 6s, sys: 1min 9s, total: 43min 16s\n",
      "Wall time: 3min 34s\n"
     ]
    },
    {
     "name": "stderr",
     "output_type": "stream",
     "text": [
      "/home/atselikov/anaconda2/lib/python2.7/site-packages/ipykernel/__main__.py:13: FutureWarning: sort(columns=....) is deprecated, use sort_values(by=.....)\n"
     ]
    }
   ],
   "source": [
    "%%time\n",
    "file_name='def_rf_200'\n",
    "yallpred=rf_predict(rs, 200)\n",
    "np.savetxt('models/m1_encoded_ts.txt', yallpred)"
   ]
  },
  {
   "cell_type": "code",
   "execution_count": 83,
   "metadata": {
    "collapsed": false
   },
   "outputs": [
    {
     "data": {
      "text/html": [
       "<div>\n",
       "<table border=\"1\" class=\"dataframe\">\n",
       "  <thead>\n",
       "    <tr style=\"text-align: right;\">\n",
       "      <th></th>\n",
       "      <th>0</th>\n",
       "      <th>1</th>\n",
       "      <th>2</th>\n",
       "    </tr>\n",
       "  </thead>\n",
       "  <tbody>\n",
       "    <tr>\n",
       "      <th>15438</th>\n",
       "      <td>0</td>\n",
       "      <td>0.000000</td>\n",
       "      <td>1.000000</td>\n",
       "    </tr>\n",
       "    <tr>\n",
       "      <th>97665</th>\n",
       "      <td>0</td>\n",
       "      <td>0.000000</td>\n",
       "      <td>1.000000</td>\n",
       "    </tr>\n",
       "    <tr>\n",
       "      <th>9285</th>\n",
       "      <td>0</td>\n",
       "      <td>0.000000</td>\n",
       "      <td>1.000000</td>\n",
       "    </tr>\n",
       "    <tr>\n",
       "      <th>47290</th>\n",
       "      <td>1</td>\n",
       "      <td>0.000000</td>\n",
       "      <td>0.000000</td>\n",
       "    </tr>\n",
       "    <tr>\n",
       "      <th>40560</th>\n",
       "      <td>0</td>\n",
       "      <td>0.000000</td>\n",
       "      <td>1.000000</td>\n",
       "    </tr>\n",
       "    <tr>\n",
       "      <th>59021</th>\n",
       "      <td>0</td>\n",
       "      <td>1.000000</td>\n",
       "      <td>0.000000</td>\n",
       "    </tr>\n",
       "    <tr>\n",
       "      <th>15699</th>\n",
       "      <td>0</td>\n",
       "      <td>0.000000</td>\n",
       "      <td>1.000000</td>\n",
       "    </tr>\n",
       "    <tr>\n",
       "      <th>42580</th>\n",
       "      <td>0</td>\n",
       "      <td>0.054391</td>\n",
       "      <td>0.945609</td>\n",
       "    </tr>\n",
       "    <tr>\n",
       "      <th>97754</th>\n",
       "      <td>0</td>\n",
       "      <td>0.000000</td>\n",
       "      <td>1.000000</td>\n",
       "    </tr>\n",
       "    <tr>\n",
       "      <th>81580</th>\n",
       "      <td>0</td>\n",
       "      <td>0.000000</td>\n",
       "      <td>1.000000</td>\n",
       "    </tr>\n",
       "  </tbody>\n",
       "</table>\n",
       "</div>"
      ],
      "text/plain": [
       "       0         1         2\n",
       "15438  0  0.000000  1.000000\n",
       "97665  0  0.000000  1.000000\n",
       "9285   0  0.000000  1.000000\n",
       "47290  1  0.000000  0.000000\n",
       "40560  0  0.000000  1.000000\n",
       "59021  0  1.000000  0.000000\n",
       "15699  0  0.000000  1.000000\n",
       "42580  0  0.054391  0.945609\n",
       "97754  0  0.000000  1.000000\n",
       "81580  0  0.000000  1.000000"
      ]
     },
     "execution_count": 83,
     "metadata": {},
     "output_type": "execute_result"
    }
   ],
   "source": [
    "pd.DataFrame(yallpred).sample(10)"
   ]
  },
  {
   "cell_type": "code",
   "execution_count": 14,
   "metadata": {
    "collapsed": false
   },
   "outputs": [
    {
     "name": "stdout",
     "output_type": "stream",
     "text": [
      "submitted!\n"
     ]
    }
   ],
   "source": [
    "submit(yallpred, colnames, file_name)"
   ]
  },
  {
   "cell_type": "code",
   "execution_count": 82,
   "metadata": {
    "collapsed": false
   },
   "outputs": [
    {
     "data": {
      "text/plain": [
       "13085"
      ]
     },
     "execution_count": 82,
     "metadata": {},
     "output_type": "execute_result"
    }
   ],
   "source": [
    "sum(finallsd[:,0])"
   ]
  },
  {
   "cell_type": "code",
   "execution_count": 66,
   "metadata": {
    "collapsed": false
   },
   "outputs": [
    {
     "data": {
      "text/html": [
       "<div>\n",
       "<table border=\"1\" class=\"dataframe\">\n",
       "  <thead>\n",
       "    <tr style=\"text-align: right;\">\n",
       "      <th></th>\n",
       "      <th>0</th>\n",
       "      <th>1</th>\n",
       "      <th>2</th>\n",
       "    </tr>\n",
       "  </thead>\n",
       "  <tbody>\n",
       "    <tr>\n",
       "      <th>count</th>\n",
       "      <td>100000.000000</td>\n",
       "      <td>100000.000000</td>\n",
       "      <td>100000.000000</td>\n",
       "    </tr>\n",
       "    <tr>\n",
       "      <th>mean</th>\n",
       "      <td>0.130850</td>\n",
       "      <td>0.031630</td>\n",
       "      <td>0.874970</td>\n",
       "    </tr>\n",
       "    <tr>\n",
       "      <th>std</th>\n",
       "      <td>0.337238</td>\n",
       "      <td>0.175014</td>\n",
       "      <td>0.330755</td>\n",
       "    </tr>\n",
       "    <tr>\n",
       "      <th>min</th>\n",
       "      <td>0.000000</td>\n",
       "      <td>0.000000</td>\n",
       "      <td>0.000000</td>\n",
       "    </tr>\n",
       "    <tr>\n",
       "      <th>25%</th>\n",
       "      <td>0.000000</td>\n",
       "      <td>0.000000</td>\n",
       "      <td>1.000000</td>\n",
       "    </tr>\n",
       "    <tr>\n",
       "      <th>50%</th>\n",
       "      <td>0.000000</td>\n",
       "      <td>0.000000</td>\n",
       "      <td>1.000000</td>\n",
       "    </tr>\n",
       "    <tr>\n",
       "      <th>75%</th>\n",
       "      <td>0.000000</td>\n",
       "      <td>0.000000</td>\n",
       "      <td>1.000000</td>\n",
       "    </tr>\n",
       "    <tr>\n",
       "      <th>max</th>\n",
       "      <td>1.000000</td>\n",
       "      <td>1.000000</td>\n",
       "      <td>1.000000</td>\n",
       "    </tr>\n",
       "  </tbody>\n",
       "</table>\n",
       "</div>"
      ],
      "text/plain": [
       "                   0              1              2\n",
       "count  100000.000000  100000.000000  100000.000000\n",
       "mean        0.130850       0.031630       0.874970\n",
       "std         0.337238       0.175014       0.330755\n",
       "min         0.000000       0.000000       0.000000\n",
       "25%         0.000000       0.000000       1.000000\n",
       "50%         0.000000       0.000000       1.000000\n",
       "75%         0.000000       0.000000       1.000000\n",
       "max         1.000000       1.000000       1.000000"
      ]
     },
     "execution_count": 66,
     "metadata": {},
     "output_type": "execute_result"
    }
   ],
   "source": [
    "pd.DataFrame(finallsd).describe(include='all')"
   ]
  },
  {
   "cell_type": "code",
   "execution_count": 100,
   "metadata": {
    "collapsed": false
   },
   "outputs": [
    {
     "name": "stdout",
     "output_type": "stream",
     "text": [
      "def_no_digits.csv\n",
      "\tComment     : \n",
      "\tModified    : 2016-03-15 15:18:08\n",
      "\tSystem      : Unix\n",
      "\tZIP version : 20\n",
      "\tCompressed  : 1753632 bytes\n",
      "\tUncompressed: 42397643 bytes\n",
      "\n"
     ]
    }
   ],
   "source": [
    "dresult.to_csv(file_name+'.csv', index = False)\n",
    "zf = zipfile.ZipFile(file_name+'.zip', mode='w')\n",
    "zf.write(file_name+'.csv', compress_type=zipfile.ZIP_DEFLATED)\n",
    "zf.close()\n",
    "os.remove(file_name+'.csv')"
   ]
  },
  {
   "cell_type": "code",
   "execution_count": 30,
   "metadata": {
    "collapsed": false
   },
   "outputs": [],
   "source": [
    "dall.head(20).to_csv('dall_head20.csv', index = False)"
   ]
  },
  {
   "cell_type": "code",
   "execution_count": 29,
   "metadata": {
    "collapsed": true
   },
   "outputs": [],
   "source": [
    "dtrain.head(20).to_csv('dtrain_head20.csv', index = False)\n",
    "dtest.head(20).to_csv('dtest_head20.csv', index = False)"
   ]
  },
  {
   "cell_type": "markdown",
   "metadata": {
    "collapsed": true
   },
   "source": [
    "# META CLASSIFIER"
   ]
  },
  {
   "cell_type": "code",
   "execution_count": 97,
   "metadata": {
    "collapsed": false
   },
   "outputs": [
    {
     "name": "stdout",
     "output_type": "stream",
     "text": [
      "(300000, 208)\n",
      "(100000, 208)\n"
     ]
    }
   ],
   "source": [
    "Xall2train = np.hstack((m1train, m2train))\n",
    "Xall2test = np.hstack((m1test, m2test))\n",
    "print np.shape(Xall2train)\n",
    "print np.shape(Xall2test)"
   ]
  },
  {
   "cell_type": "code",
   "execution_count": 98,
   "metadata": {
    "collapsed": false
   },
   "outputs": [
    {
     "name": "stdout",
     "output_type": "stream",
     "text": [
      "0.0560509880613\n",
      "0.0546285653295\n"
     ]
    },
    {
     "ename": "KeyboardInterrupt",
     "evalue": "",
     "output_type": "error",
     "traceback": [
      "\u001b[1;31m---------------------------------------------------------------------------\u001b[0m",
      "\u001b[1;31mKeyboardInterrupt\u001b[0m                         Traceback (most recent call last)",
      "\u001b[1;32m<ipython-input-98-3d38e9af38d9>\u001b[0m in \u001b[0;36m<module>\u001b[1;34m()\u001b[0m\n\u001b[0;32m      7\u001b[0m \u001b[0mallypred\u001b[0m \u001b[1;33m=\u001b[0m \u001b[0mnp\u001b[0m\u001b[1;33m.\u001b[0m\u001b[0mzeros\u001b[0m\u001b[1;33m(\u001b[0m\u001b[1;33m(\u001b[0m\u001b[0mlen\u001b[0m\u001b[1;33m(\u001b[0m\u001b[0mdtrain\u001b[0m\u001b[1;33m)\u001b[0m\u001b[1;33m,\u001b[0m \u001b[1;36m104\u001b[0m\u001b[1;33m)\u001b[0m\u001b[1;33m)\u001b[0m\u001b[1;33m\u001b[0m\u001b[0m\n\u001b[0;32m      8\u001b[0m \u001b[0mclf\u001b[0m \u001b[1;33m=\u001b[0m \u001b[0mRandomForestClassifier\u001b[0m\u001b[1;33m(\u001b[0m\u001b[0mn_estimators\u001b[0m \u001b[1;33m=\u001b[0m \u001b[0mest_count\u001b[0m\u001b[1;33m,\u001b[0m \u001b[0mn_jobs\u001b[0m \u001b[1;33m=\u001b[0m \u001b[1;36m15\u001b[0m\u001b[1;33m,\u001b[0m \u001b[0mrandom_state\u001b[0m\u001b[1;33m=\u001b[0m\u001b[0mrs\u001b[0m\u001b[1;33m)\u001b[0m \u001b[1;31m#0.098330060692\u001b[0m\u001b[1;33m\u001b[0m\u001b[0m\n\u001b[1;32m----> 9\u001b[1;33m \u001b[0mget_kfold_scores\u001b[0m\u001b[1;33m(\u001b[0m\u001b[0mXall2train\u001b[0m\u001b[1;33m,\u001b[0m \u001b[0mdall\u001b[0m\u001b[1;33m[\u001b[0m\u001b[0mcol_set\u001b[0m\u001b[1;33m]\u001b[0m\u001b[1;33m[\u001b[0m\u001b[1;33m:\u001b[0m\u001b[0mlen\u001b[0m\u001b[1;33m(\u001b[0m\u001b[0mdtrain\u001b[0m\u001b[1;33m)\u001b[0m\u001b[1;33m]\u001b[0m\u001b[1;33m,\u001b[0m \u001b[0mclf\u001b[0m\u001b[1;33m,\u001b[0m \u001b[0mrandom_state\u001b[0m  \u001b[1;33m=\u001b[0m \u001b[0mrs\u001b[0m\u001b[1;33m)\u001b[0m\u001b[1;33m\u001b[0m\u001b[0m\n\u001b[0m",
      "\u001b[1;32m<ipython-input-85-81999e15cede>\u001b[0m in \u001b[0;36mget_kfold_scores\u001b[1;34m(X, y, clf, random_state)\u001b[0m\n\u001b[0;32m     39\u001b[0m         \u001b[1;31m#curres, ypred = stasknn(indtrain1, indtrain2)\u001b[0m\u001b[1;33m\u001b[0m\u001b[1;33m\u001b[0m\u001b[0m\n\u001b[0;32m     40\u001b[0m \u001b[1;33m\u001b[0m\u001b[0m\n\u001b[1;32m---> 41\u001b[1;33m         \u001b[0mscore\u001b[0m\u001b[1;33m,\u001b[0m \u001b[0mfoldpred\u001b[0m \u001b[1;33m=\u001b[0m\u001b[0mfold_score\u001b[0m\u001b[1;33m(\u001b[0m\u001b[0mX_train\u001b[0m\u001b[1;33m,\u001b[0m \u001b[0mX_test\u001b[0m\u001b[1;33m,\u001b[0m \u001b[0my_train\u001b[0m\u001b[1;33m,\u001b[0m \u001b[0my_test\u001b[0m\u001b[1;33m,\u001b[0m \u001b[0mcol_set\u001b[0m\u001b[1;33m,\u001b[0m \u001b[0mclf\u001b[0m\u001b[1;33m)\u001b[0m\u001b[1;33m\u001b[0m\u001b[0m\n\u001b[0m\u001b[0;32m     42\u001b[0m \u001b[1;33m\u001b[0m\u001b[0m\n\u001b[0;32m     43\u001b[0m         \u001b[0marres\u001b[0m\u001b[1;33m.\u001b[0m\u001b[0mappend\u001b[0m\u001b[1;33m(\u001b[0m\u001b[0mscore\u001b[0m\u001b[1;33m)\u001b[0m\u001b[1;33m\u001b[0m\u001b[0m\n",
      "\u001b[1;32m<ipython-input-85-81999e15cede>\u001b[0m in \u001b[0;36mfold_score\u001b[1;34m(CVXtrain, CVXtest, CVytrain, CVytest, col_set, model)\u001b[0m\n\u001b[0;32m      7\u001b[0m     \u001b[1;32mfor\u001b[0m \u001b[0mcolpred\u001b[0m \u001b[1;32min\u001b[0m \u001b[0mcol_set\u001b[0m\u001b[1;33m:\u001b[0m\u001b[1;33m\u001b[0m\u001b[0m\n\u001b[0;32m      8\u001b[0m         \u001b[1;31m#print colpred\u001b[0m\u001b[1;33m\u001b[0m\u001b[1;33m\u001b[0m\u001b[0m\n\u001b[1;32m----> 9\u001b[1;33m         \u001b[0mmodel\u001b[0m\u001b[1;33m.\u001b[0m\u001b[0mfit\u001b[0m\u001b[1;33m(\u001b[0m\u001b[0mCVXtrain\u001b[0m\u001b[1;33m,\u001b[0m \u001b[0mCVytrain\u001b[0m\u001b[1;33m[\u001b[0m\u001b[0mcolpred\u001b[0m\u001b[1;33m]\u001b[0m\u001b[1;33m)\u001b[0m\u001b[1;33m\u001b[0m\u001b[0m\n\u001b[0m\u001b[0;32m     10\u001b[0m         \u001b[0mypred\u001b[0m \u001b[1;33m=\u001b[0m \u001b[0mmodel\u001b[0m\u001b[1;33m.\u001b[0m\u001b[0mpredict_proba\u001b[0m\u001b[1;33m(\u001b[0m\u001b[0mCVXtest\u001b[0m\u001b[1;33m)\u001b[0m\u001b[1;33m\u001b[0m\u001b[0m\n\u001b[0;32m     11\u001b[0m         \u001b[0myallpred\u001b[0m \u001b[1;33m=\u001b[0m \u001b[0mnp\u001b[0m\u001b[1;33m.\u001b[0m\u001b[0mhstack\u001b[0m\u001b[1;33m(\u001b[0m\u001b[1;33m(\u001b[0m\u001b[0myallpred\u001b[0m\u001b[1;33m,\u001b[0m \u001b[0mypred\u001b[0m\u001b[1;33m)\u001b[0m\u001b[1;33m)\u001b[0m\u001b[1;33m\u001b[0m\u001b[0m\n",
      "\u001b[1;32m/home/atselikov/anaconda2/lib/python2.7/site-packages/sklearn/ensemble/forest.pyc\u001b[0m in \u001b[0;36mfit\u001b[1;34m(self, X, y, sample_weight)\u001b[0m\n\u001b[0;32m    288\u001b[0m                     \u001b[0mt\u001b[0m\u001b[1;33m,\u001b[0m \u001b[0mself\u001b[0m\u001b[1;33m,\u001b[0m \u001b[0mX\u001b[0m\u001b[1;33m,\u001b[0m \u001b[0my\u001b[0m\u001b[1;33m,\u001b[0m \u001b[0msample_weight\u001b[0m\u001b[1;33m,\u001b[0m \u001b[0mi\u001b[0m\u001b[1;33m,\u001b[0m \u001b[0mlen\u001b[0m\u001b[1;33m(\u001b[0m\u001b[0mtrees\u001b[0m\u001b[1;33m)\u001b[0m\u001b[1;33m,\u001b[0m\u001b[1;33m\u001b[0m\u001b[0m\n\u001b[0;32m    289\u001b[0m                     verbose=self.verbose, class_weight=self.class_weight)\n\u001b[1;32m--> 290\u001b[1;33m                 for i, t in enumerate(trees))\n\u001b[0m\u001b[0;32m    291\u001b[0m \u001b[1;33m\u001b[0m\u001b[0m\n\u001b[0;32m    292\u001b[0m             \u001b[1;31m# Collect newly grown trees\u001b[0m\u001b[1;33m\u001b[0m\u001b[1;33m\u001b[0m\u001b[0m\n",
      "\u001b[1;32m/home/atselikov/anaconda2/lib/python2.7/site-packages/sklearn/externals/joblib/parallel.pyc\u001b[0m in \u001b[0;36m__call__\u001b[1;34m(self, iterable)\u001b[0m\n\u001b[0;32m    810\u001b[0m                 \u001b[1;31m# consumption.\u001b[0m\u001b[1;33m\u001b[0m\u001b[1;33m\u001b[0m\u001b[0m\n\u001b[0;32m    811\u001b[0m                 \u001b[0mself\u001b[0m\u001b[1;33m.\u001b[0m\u001b[0m_iterating\u001b[0m \u001b[1;33m=\u001b[0m \u001b[0mFalse\u001b[0m\u001b[1;33m\u001b[0m\u001b[0m\n\u001b[1;32m--> 812\u001b[1;33m             \u001b[0mself\u001b[0m\u001b[1;33m.\u001b[0m\u001b[0mretrieve\u001b[0m\u001b[1;33m(\u001b[0m\u001b[1;33m)\u001b[0m\u001b[1;33m\u001b[0m\u001b[0m\n\u001b[0m\u001b[0;32m    813\u001b[0m             \u001b[1;31m# Make sure that we get a last message telling us we are done\u001b[0m\u001b[1;33m\u001b[0m\u001b[1;33m\u001b[0m\u001b[0m\n\u001b[0;32m    814\u001b[0m             \u001b[0melapsed_time\u001b[0m \u001b[1;33m=\u001b[0m \u001b[0mtime\u001b[0m\u001b[1;33m.\u001b[0m\u001b[0mtime\u001b[0m\u001b[1;33m(\u001b[0m\u001b[1;33m)\u001b[0m \u001b[1;33m-\u001b[0m \u001b[0mself\u001b[0m\u001b[1;33m.\u001b[0m\u001b[0m_start_time\u001b[0m\u001b[1;33m\u001b[0m\u001b[0m\n",
      "\u001b[1;32m/home/atselikov/anaconda2/lib/python2.7/site-packages/sklearn/externals/joblib/parallel.pyc\u001b[0m in \u001b[0;36mretrieve\u001b[1;34m(self)\u001b[0m\n\u001b[0;32m    729\u001b[0m                 \u001b[0mjob\u001b[0m \u001b[1;33m=\u001b[0m \u001b[0mself\u001b[0m\u001b[1;33m.\u001b[0m\u001b[0m_jobs\u001b[0m\u001b[1;33m.\u001b[0m\u001b[0mpop\u001b[0m\u001b[1;33m(\u001b[0m\u001b[1;36m0\u001b[0m\u001b[1;33m)\u001b[0m\u001b[1;33m\u001b[0m\u001b[0m\n\u001b[0;32m    730\u001b[0m             \u001b[1;32mtry\u001b[0m\u001b[1;33m:\u001b[0m\u001b[1;33m\u001b[0m\u001b[0m\n\u001b[1;32m--> 731\u001b[1;33m                 \u001b[0mself\u001b[0m\u001b[1;33m.\u001b[0m\u001b[0m_output\u001b[0m\u001b[1;33m.\u001b[0m\u001b[0mextend\u001b[0m\u001b[1;33m(\u001b[0m\u001b[0mjob\u001b[0m\u001b[1;33m.\u001b[0m\u001b[0mget\u001b[0m\u001b[1;33m(\u001b[0m\u001b[1;33m)\u001b[0m\u001b[1;33m)\u001b[0m\u001b[1;33m\u001b[0m\u001b[0m\n\u001b[0m\u001b[0;32m    732\u001b[0m             \u001b[1;32mexcept\u001b[0m \u001b[0mtuple\u001b[0m\u001b[1;33m(\u001b[0m\u001b[0mself\u001b[0m\u001b[1;33m.\u001b[0m\u001b[0mexceptions\u001b[0m\u001b[1;33m)\u001b[0m \u001b[1;32mas\u001b[0m \u001b[0mexception\u001b[0m\u001b[1;33m:\u001b[0m\u001b[1;33m\u001b[0m\u001b[0m\n\u001b[0;32m    733\u001b[0m                 \u001b[1;31m# Stop dispatching any new job in the async callback thread\u001b[0m\u001b[1;33m\u001b[0m\u001b[1;33m\u001b[0m\u001b[0m\n",
      "\u001b[1;32m/home/atselikov/anaconda2/lib/python2.7/multiprocessing/pool.pyc\u001b[0m in \u001b[0;36mget\u001b[1;34m(self, timeout)\u001b[0m\n\u001b[0;32m    559\u001b[0m \u001b[1;33m\u001b[0m\u001b[0m\n\u001b[0;32m    560\u001b[0m     \u001b[1;32mdef\u001b[0m \u001b[0mget\u001b[0m\u001b[1;33m(\u001b[0m\u001b[0mself\u001b[0m\u001b[1;33m,\u001b[0m \u001b[0mtimeout\u001b[0m\u001b[1;33m=\u001b[0m\u001b[0mNone\u001b[0m\u001b[1;33m)\u001b[0m\u001b[1;33m:\u001b[0m\u001b[1;33m\u001b[0m\u001b[0m\n\u001b[1;32m--> 561\u001b[1;33m         \u001b[0mself\u001b[0m\u001b[1;33m.\u001b[0m\u001b[0mwait\u001b[0m\u001b[1;33m(\u001b[0m\u001b[0mtimeout\u001b[0m\u001b[1;33m)\u001b[0m\u001b[1;33m\u001b[0m\u001b[0m\n\u001b[0m\u001b[0;32m    562\u001b[0m         \u001b[1;32mif\u001b[0m \u001b[1;32mnot\u001b[0m \u001b[0mself\u001b[0m\u001b[1;33m.\u001b[0m\u001b[0m_ready\u001b[0m\u001b[1;33m:\u001b[0m\u001b[1;33m\u001b[0m\u001b[0m\n\u001b[0;32m    563\u001b[0m             \u001b[1;32mraise\u001b[0m \u001b[0mTimeoutError\u001b[0m\u001b[1;33m\u001b[0m\u001b[0m\n",
      "\u001b[1;32m/home/atselikov/anaconda2/lib/python2.7/multiprocessing/pool.pyc\u001b[0m in \u001b[0;36mwait\u001b[1;34m(self, timeout)\u001b[0m\n\u001b[0;32m    554\u001b[0m         \u001b[1;32mtry\u001b[0m\u001b[1;33m:\u001b[0m\u001b[1;33m\u001b[0m\u001b[0m\n\u001b[0;32m    555\u001b[0m             \u001b[1;32mif\u001b[0m \u001b[1;32mnot\u001b[0m \u001b[0mself\u001b[0m\u001b[1;33m.\u001b[0m\u001b[0m_ready\u001b[0m\u001b[1;33m:\u001b[0m\u001b[1;33m\u001b[0m\u001b[0m\n\u001b[1;32m--> 556\u001b[1;33m                 \u001b[0mself\u001b[0m\u001b[1;33m.\u001b[0m\u001b[0m_cond\u001b[0m\u001b[1;33m.\u001b[0m\u001b[0mwait\u001b[0m\u001b[1;33m(\u001b[0m\u001b[0mtimeout\u001b[0m\u001b[1;33m)\u001b[0m\u001b[1;33m\u001b[0m\u001b[0m\n\u001b[0m\u001b[0;32m    557\u001b[0m         \u001b[1;32mfinally\u001b[0m\u001b[1;33m:\u001b[0m\u001b[1;33m\u001b[0m\u001b[0m\n\u001b[0;32m    558\u001b[0m             \u001b[0mself\u001b[0m\u001b[1;33m.\u001b[0m\u001b[0m_cond\u001b[0m\u001b[1;33m.\u001b[0m\u001b[0mrelease\u001b[0m\u001b[1;33m(\u001b[0m\u001b[1;33m)\u001b[0m\u001b[1;33m\u001b[0m\u001b[0m\n",
      "\u001b[1;32m/home/atselikov/anaconda2/lib/python2.7/threading.pyc\u001b[0m in \u001b[0;36mwait\u001b[1;34m(self, timeout)\u001b[0m\n\u001b[0;32m    338\u001b[0m         \u001b[1;32mtry\u001b[0m\u001b[1;33m:\u001b[0m    \u001b[1;31m# restore state no matter what (e.g., KeyboardInterrupt)\u001b[0m\u001b[1;33m\u001b[0m\u001b[0m\n\u001b[0;32m    339\u001b[0m             \u001b[1;32mif\u001b[0m \u001b[0mtimeout\u001b[0m \u001b[1;32mis\u001b[0m \u001b[0mNone\u001b[0m\u001b[1;33m:\u001b[0m\u001b[1;33m\u001b[0m\u001b[0m\n\u001b[1;32m--> 340\u001b[1;33m                 \u001b[0mwaiter\u001b[0m\u001b[1;33m.\u001b[0m\u001b[0macquire\u001b[0m\u001b[1;33m(\u001b[0m\u001b[1;33m)\u001b[0m\u001b[1;33m\u001b[0m\u001b[0m\n\u001b[0m\u001b[0;32m    341\u001b[0m                 \u001b[1;32mif\u001b[0m \u001b[0m__debug__\u001b[0m\u001b[1;33m:\u001b[0m\u001b[1;33m\u001b[0m\u001b[0m\n\u001b[0;32m    342\u001b[0m                     \u001b[0mself\u001b[0m\u001b[1;33m.\u001b[0m\u001b[0m_note\u001b[0m\u001b[1;33m(\u001b[0m\u001b[1;34m\"%s.wait(): got it\"\u001b[0m\u001b[1;33m,\u001b[0m \u001b[0mself\u001b[0m\u001b[1;33m)\u001b[0m\u001b[1;33m\u001b[0m\u001b[0m\n",
      "\u001b[1;31mKeyboardInterrupt\u001b[0m: "
     ]
    }
   ],
   "source": [
    "col_set=dall.columns[:9]\n",
    "rs=10\n",
    "#folds=3\n",
    "est_count=200\n",
    "arres = []\n",
    "arrlos = []\n",
    "allypred = np.zeros((len(dtrain), 104))\n",
    "clf = RandomForestClassifier(n_estimators = est_count, n_jobs = 15, random_state=rs) #0.098330060692\n",
    "get_kfold_scores(Xall2train, dall[col_set][:len(dtrain)], clf, random_state  = rs)"
   ]
  },
  {
   "cell_type": "code",
   "execution_count": null,
   "metadata": {
    "collapsed": true
   },
   "outputs": [],
   "source": []
  }
 ],
 "metadata": {
  "kernelspec": {
   "display_name": "Python 2",
   "language": "python",
   "name": "python2"
  },
  "language_info": {
   "codemirror_mode": {
    "name": "ipython",
    "version": 2
   },
   "file_extension": ".py",
   "mimetype": "text/x-python",
   "name": "python",
   "nbconvert_exporter": "python",
   "pygments_lexer": "ipython2",
   "version": "2.7.11"
  }
 },
 "nbformat": 4,
 "nbformat_minor": 0
}
